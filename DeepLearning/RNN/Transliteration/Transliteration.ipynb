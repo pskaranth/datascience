{
  "nbformat": 4,
  "nbformat_minor": 0,
  "metadata": {
    "colab": {
      "name": "Transliteration.ipynb",
      "provenance": [],
      "toc_visible": true,
      "mount_file_id": "1ORb9n802oxPqg8SC2l-aPPQfkU-L54T7",
      "authorship_tag": "ABX9TyOuMmv3PldH0JZI3Rxik3tg",
      "include_colab_link": true
    },
    "kernelspec": {
      "name": "python3",
      "display_name": "Python 3"
    },
    "language_info": {
      "name": "python"
    }
  },
  "cells": [
    {
      "cell_type": "markdown",
      "metadata": {
        "id": "view-in-github",
        "colab_type": "text"
      },
      "source": [
        "<a href=\"https://colab.research.google.com/github/pskaranth/thelearningcurve/blob/master/DeepLearning/RNN/Transliteration/Transliteration.ipynb\" target=\"_parent\"><img src=\"https://colab.research.google.com/assets/colab-badge.svg\" alt=\"Open In Colab\"/></a>"
      ]
    },
    {
      "cell_type": "markdown",
      "metadata": {
        "id": "AIo2AOcP6eYt"
      },
      "source": [
        "###Machine transliteration example.\n",
        "\n",
        "\n",
        "*  Transliteration from English to Hindi using Encoder-Decoder with attention mechanism.\n",
        "*  Using RNN as a sequence model for encoding and decoding.\n"
      ]
    },
    {
      "cell_type": "code",
      "metadata": {
        "id": "FUegfn2B6ZUA"
      },
      "source": [
        "import xml.etree.ElementTree as ET\n",
        "import re"
      ],
      "execution_count": 2,
      "outputs": []
    },
    {
      "cell_type": "code",
      "metadata": {
        "id": "RNhvwfj8YJIT"
      },
      "source": [
        "import torch\n",
        "import torch.nn as nn\n",
        "import torch.optim as optim\n",
        "import torch.nn.functional as F"
      ],
      "execution_count": 3,
      "outputs": []
    },
    {
      "cell_type": "code",
      "metadata": {
        "id": "gGqkUfKXpuNU"
      },
      "source": [
        "import numpy as np\n",
        "from IPython.display import clear_output\n",
        "import matplotlib.pyplot as plt\n",
        "import seaborn as sns"
      ],
      "execution_count": 4,
      "outputs": []
    },
    {
      "cell_type": "code",
      "metadata": {
        "id": "SFqX87BNpoc3"
      },
      "source": [
        "# Instantiates the device to be used as GPU/CPU based on availability\n",
        "device_gpu = torch.device(\"cuda:0\" if torch.cuda.is_available() else \"cpu\")"
      ],
      "execution_count": 24,
      "outputs": []
    },
    {
      "cell_type": "code",
      "metadata": {
        "id": "IfvGMM4_LZmn",
        "colab": {
          "base_uri": "https://localhost:8080/"
        },
        "outputId": "b04b2f6e-8810-4f2d-fd29-71ab6413bee4"
      },
      "source": [
        ""
      ],
      "execution_count": 1,
      "outputs": [
        {
          "output_type": "stream",
          "text": [
            "/content/drive/MyDrive/Machine Learning/onefourthlabs/pynb_codes/11_ObjectDetection\n"
          ],
          "name": "stdout"
        }
      ]
    },
    {
      "cell_type": "code",
      "metadata": {
        "id": "_vuoj4jB8BUw"
      },
      "source": [
        "eng_alphabets ='-'+'ABCDEFGHIJKLMNOPQRSTUVWXYZ'"
      ],
      "execution_count": 15,
      "outputs": []
    },
    {
      "cell_type": "code",
      "metadata": {
        "colab": {
          "base_uri": "https://localhost:8080/"
        },
        "id": "z1T7LsLx8CG8",
        "outputId": "1a4dfb5a-0719-4faa-c90c-a4d4e8addb7f"
      },
      "source": [
        "# Hindi Unicode Hex Range is 2304:2432. Source: https://en.wikipedia.org/wiki/Devanagari_(Unicode_block)\n",
        "\n",
        "hindi_alphabets  = [chr(alpha) for alpha in range(2304, 2432)]\n",
        "hindi_alphabets.insert(0,'-' )\n",
        "print(hindi_alphabets)\n",
        "print(len(hindi_alphabets))"
      ],
      "execution_count": 5,
      "outputs": [
        {
          "output_type": "stream",
          "text": [
            "['-', 'ऀ', 'ँ', 'ं', 'ः', 'ऄ', 'अ', 'आ', 'इ', 'ई', 'उ', 'ऊ', 'ऋ', 'ऌ', 'ऍ', 'ऎ', 'ए', 'ऐ', 'ऑ', 'ऒ', 'ओ', 'औ', 'क', 'ख', 'ग', 'घ', 'ङ', 'च', 'छ', 'ज', 'झ', 'ञ', 'ट', 'ठ', 'ड', 'ढ', 'ण', 'त', 'थ', 'द', 'ध', 'न', 'ऩ', 'प', 'फ', 'ब', 'भ', 'म', 'य', 'र', 'ऱ', 'ल', 'ळ', 'ऴ', 'व', 'श', 'ष', 'स', 'ह', 'ऺ', 'ऻ', '़', 'ऽ', 'ा', 'ि', 'ी', 'ु', 'ू', 'ृ', 'ॄ', 'ॅ', 'ॆ', 'े', 'ै', 'ॉ', 'ॊ', 'ो', 'ौ', '्', 'ॎ', 'ॏ', 'ॐ', '॑', '॒', '॓', '॔', 'ॕ', 'ॖ', 'ॗ', 'क़', 'ख़', 'ग़', 'ज़', 'ड़', 'ढ़', 'फ़', 'य़', 'ॠ', 'ॡ', 'ॢ', 'ॣ', '।', '॥', '०', '१', '२', '३', '४', '५', '६', '७', '८', '९', '॰', 'ॱ', 'ॲ', 'ॳ', 'ॴ', 'ॵ', 'ॶ', 'ॷ', 'ॸ', 'ॹ', 'ॺ', 'ॻ', 'ॼ', 'ॽ', 'ॾ', 'ॿ']\n",
            "129\n"
          ],
          "name": "stdout"
        }
      ]
    },
    {
      "cell_type": "code",
      "metadata": {
        "id": "kHt7KHrQ8IeK"
      },
      "source": [
        "non_eng_letters_regex = re.compile('[^a-zA-Z ]')\n",
        "\n",
        "# Remove all English non-letters\n",
        "def cleanEnglishVocab(line):\n",
        "    line = line.replace('-', ' ').replace(',', ' ').replace('/',' ')\n",
        "    word = non_eng_letters_regex.sub('', line.upper()) #Anything that matches non_eng_letters_regex, substitute with ''\n",
        "    return word.split()\n",
        "\n",
        "# Remove all Hindi non-letters\n",
        "def cleanHindiVocab(line):\n",
        "    # for char in line:\n",
        "    #   if char not in hindi_alpha2index :\n",
        "    #    print(char) # printing special characters\n",
        "    line = line.replace('-', ' ').replace(',', ' ').replace('/',' ')\n",
        "    for char in line:\n",
        "       if char not in hindi_alphabets and char != ' ': #Anything that's in hindi_alpha2index or space, add it to a list\n",
        "         line = char.replace(char,'')\n",
        "    return line.split()"
      ],
      "execution_count": 6,
      "outputs": []
    },
    {
      "cell_type": "code",
      "metadata": {
        "id": "nj9t4Asr_fHD"
      },
      "source": [
        "def readXml(filename):\n",
        "        transliterationCorpus = ET.parse(filename).getroot()\n",
        "        lang1_words = []\n",
        "        lang2_words = []\n",
        "\n",
        "        for line in transliterationCorpus:\n",
        "            wordlist1 = cleanEnglishVocab(line[0].text)# iterating from root.\n",
        "            wordlist2 = cleanHindiVocab(line[1].text)\n",
        "\n",
        "            # Skip noisy data\n",
        "            if len(wordlist1) != len(wordlist2): # in case the number of char in english != hindi, then skip it\n",
        "                # print('Skipping: ', line[0].text, ' - ', line[1].text)\n",
        "                continue\n",
        "\n",
        "            for word in wordlist1:\n",
        "                lang1_words.append(word)\n",
        "            for word in wordlist2:\n",
        "                lang2_words.append(word)\n",
        "\n",
        "        return list(zip(lang1_words, lang2_words))"
      ],
      "execution_count": 7,
      "outputs": []
    },
    {
      "cell_type": "code",
      "metadata": {
        "colab": {
          "base_uri": "https://localhost:8080/"
        },
        "id": "QR2EBbuV_jKB",
        "outputId": "bc0c627e-bad2-4da0-a841-4cd6194ebf63"
      },
      "source": [
        "td = readXml('NEWS2012TrainingEnHi13937-1563719470862.xml')\n",
        "print(td[18000:18500])\n",
        "print(type(td))"
      ],
      "execution_count": 8,
      "outputs": [
        {
          "output_type": "stream",
          "text": [
            "[('RAMA', 'रामा'), ('HARE', 'हरे'), ('KRISHNA', 'क़ृष्णा'), ('QUINTA', 'क्विंटा'), ('GIRIDIH', 'गिरिडीह'), ('WILBUR', 'विल्बर'), ('MARDAV', 'मार्दव'), ('SIR', 'सर'), ('RICHARD', 'रिचर्ड'), ('HADLEE', 'हेडली'), ('ATABAQUE', 'अताबैक'), ('ADIDAS', 'एडीडास'), ('PHAZOM', 'फ़ज़ोम'), ('AWAARGI', 'आवारगी'), ('ZENSAR', 'ज़ेन्सार'), ('GUILFORD', 'गल्फोर्ड'), ('CAROL', 'कैरोल'), ('OMAPRAKAASH', 'ओमप्रकाश'), ('CARON', 'कैरोन'), ('JIN', 'जिन'), ('MAO', 'माओ'), ('BUILDING', 'बिल्डिंग'), ('QARAAH', 'कराह'), ('JAIWANTI', 'जयवंती'), ('SUPA', 'सुपा'), ('DAM', 'डैम'), ('AACHAARYASUT', 'आचार्यसुत'), ('FINANCIAL', 'फायनैन्शियल'), ('EXPRESS', 'एक्सप्रेस'), ('LEELA', 'लीला'), ('JOHN', 'जॉन'), ('WAYNE', 'वेन'), ('LEOPARD', 'लियोपार्ड'), ('SHAUN', 'शॉन'), ('GRAF', 'ग्रेफ'), ('FATEH', 'फतेह'), ('KRASHN', 'कृष्ण'), ('PROFESSOR', 'प्रोफेसर'), ('AAQIB', 'आकिब'), ('JAVED', 'जावेद'), ('HIRAA', 'हीरा'), ('LILAC', 'लिलेक'), ('SALEEMAH', 'सलीमाह'), ('VEERESHWAR', 'वीरेश्वर'), ('SANAM', 'सनम'), ('TERI', 'तेरी'), ('KASAM', 'कसम'), ('NAAG', 'नाग'), ('LOK', 'लोक'), ('HAIDAR', 'हैदर'), ('SEKHWA', 'सेखवा'), ('SEAN', 'सीन'), ('DAVIES', 'डेवीस'), ('LEOPOLD', 'लियोपोल्ड'), ('VETRAVATI', 'वेत्रवती'), ('TEERTHA', 'तीर्था'), ('ROMEO', 'रोमियो'), ('SIKKIM', 'सिक्किम'), ('LEANN', 'लीन'), ('JHINUK', 'झिनुक'), ('PYAR', 'प्यार'), ('KI', 'की'), ('BAAZI', 'बाज़ी'), ('RUSTOM', 'रुस्तम'), ('E', 'ए'), ('BAGHDAD', 'बगदाद'), ('ROY', 'रॉय'), ('FREDERICKS', 'फ्रेडरिक्स'), ('AGNEYA', 'अग्नेया'), ('APARAJIT', 'अपराजित'), ('CHARNON', 'चरणों'), ('KI', 'की'), ('DASI', 'दासी'), ('NANDAN', 'नन्दन'), ('FIRDAUSI', 'फ़िरदौसी'), ('BARQI', 'बर्कि'), ('CARL', 'कार्ल'), ('FRIEDRICH', 'फ्रेडरिक'), ('GAUSS', 'गॉस'), ('PRIZE', 'प्राइज़'), ('SOPHIA', 'सोफिया'), ('HIGH', 'हाई'), ('SCHOOL', 'स्कूल'), ('KHAUFNAK', 'खौफनाक'), ('AANKHEN', 'आँखें'), ('RAGHUBIR', 'रघुबीर'), ('BAZAR', 'बाज़ार'), ('BAND', 'बंद'), ('KARO', 'करो'), ('DUJANAH', 'दुजनाह'), ('MUDRIKAA', 'मुद्रिका'), ('IRVINE', 'इरविन'), ('SHILLINGFORD', 'शिलिंगफोर्ड'), ('FRITZ', 'फ्रिट्ज़'), ('TUGRIK', 'तुग्रिक'), ('JNYANDEEP', 'ज्ञानदीप'), ('MAALIK', 'मालिक'), ('PHILA', 'फिला'), ('KYLE', 'काइल'), ('AADITYAVARDHAN', 'आदित्यवर्धन'), ('JUNGLE', 'जंगल'), ('KING', 'किंग'), ('TAMEEMAH', 'तमीमाह'), ('RAMANUJ', 'रामानुज'), ('TIND', 'टिंड'), ('RUPASHRI', 'रूपश्री'), ('HAMDARD', 'हमदर्द'), ('HIND', 'हिन्द'), ('ATTILA', 'एटीला'), ('JOZSEF', 'जोसफ'), ('PRIZE', 'प्राइज़'), ('JIND', 'जींद'), ('IAN', 'इआन'), ('SMITH', 'स्मिथ'), ('GIUSEPPE', 'ग्यूसेप'), ('MIRAGLIA', 'मिराग्लिया'), ('MAKKAAR', 'मक्कार'), ('LAHERI', 'लहरी'), ('JIWAN', 'जीवन'), ('MARTINA', 'मार्टिना'), ('SOLEIL', 'सोलैल'), ('VASANT', 'वसंत'), ('MERE', 'मेरे'), ('SANAM', 'सनम'), ('ATONEMENT', 'अटॉनमेंट'), ('LUTHERAN', 'लुथेरान'), ('PET', 'पेट'), ('PYAR', 'प्यार'), ('AUR', 'और'), ('PAAP', 'पाप'), ('REFUGEE', 'रेफ्युजी'), ('ASTA', 'एस्टा'), ('MARD', 'मर्द'), ('KA', 'का'), ('BACHCHA', 'बच्चा'), ('KASIA', 'कैसिया'), ('UMANG', 'उमंग'), ('KASIB', 'कासिब'), ('TUMUCUMAQUE', 'तुमुकुमाक'), ('BHAGALPUR', 'भगलपुर'), ('BAGHI', 'बागी'), ('SIPAHI', 'सिपाही'), ('ORDER', 'ऑडर'), ('OF', 'ऑफ'), ('NATIONAL', 'नेशनल'), ('SECURITY', 'सिक्योरिटी'), ('MERIT', 'मेरिट'), ('AANCHAL', 'आँचल'), ('KE', 'के'), ('PHOOL', 'फूल'), ('GARETH', 'गैरेथ'), ('BESKIDY', 'बेस्किडे'), ('ANATOLE', 'अनातोली'), ('CHARAUD', 'चारौद'), ('SHAH', 'शाह'), ('ABDUL', 'अब्दुल'), ('LATIF', 'लतीफ'), ('BHITTAI', 'भिट्टाई'), ('BELFAST', 'बेलफास्ट'), ('CITY', 'सिटी'), ('SUKHIJA', 'सुखीजा'), ('NAKUL', 'नकुल'), ('TEXAS', 'टैक्सास'), ('INSTRUMENTS', 'इंस्ट्रुमेंट्स'), ('FORT', 'फोर्ट'), ('RANDALL', 'रैंडाल'), ('NORMANDY', 'नोरमैंडी'), ('AAKHRI', 'आखिरी'), ('KHAT', 'खत'), ('AUWA', 'औवा'), ('BRADY', 'ब्रैडी'), ('GAROT', 'गरोट'), ('SAMIDHA', 'समिधा'), ('SAID', 'सईद'), ('HARINDER', 'हरिंदर'), ('SINGH', 'सिंह'), ('MEHBOOB', 'महबूब'), ('ABDUL', 'अब्दुल'), ('BASIR', 'बसीर'), ('JANASAH', 'जनसह'), ('WAHEEDA', 'वहीदा'), ('MAANGEELAAL', 'मांगीलाल'), ('MEGHACHAND', 'मेघचंद'), ('CHHINDWARA', 'छिंदवाड़ा'), ('JUNCTION', 'जंक्शन'), ('UTTARA', 'उत्तरा'), ('UMAYMAH', 'उमैमाह'), ('VINODINI', 'विनोदिनी'), ('HUGHES', 'ह्युजेस'), ('MEDAL', 'मेडल'), ('PRITHA', 'पृथा'), ('SATYANARAYAN', 'सत्यनारायण'), ('ARIANNA', 'एरियाना'), ('ATHAR', 'आथर'), ('ALI', 'अली'), ('KHAN', 'खान'), ('JOGDAND', 'जोगदंड'), ('VISUALSOFT', 'विज़्युअलसॉफ़्ट'), ('GOPATI', 'गोपति'), ('JAI', 'जय'), ('JAGAT', 'जगत'), ('JANANI', 'जननी'), ('SHAALINEE', 'शालिनी'), ('GANGA', 'गंगा'), ('KI', 'की'), ('LEHREN', 'लहरें'), ('SHRI', 'श्री'), ('RAAGESHWARI', 'रागेश्वरी'), ('RADHA', 'राधा'), ('RANI', 'रानी'), ('JUNG', 'जंग'), ('BAHADUR', 'बहादुर'), ('CHAUDFONTAINE', 'कॉडफॉन्टेन'), ('FORT', 'फोर्ट'), ('MANANA', 'मनना'), ('SHABISTAN', 'शबिस्तान'), ('KARUNAMAYI', 'करुणामयी'), ('GARWAH', 'गढ़वा'), ('PUSHPA', 'पुष्पा'), ('VIKRAANT', 'विक्रांत'), ('HOYSALESWARA', 'होयसलेश्वर'), ('SATISH', 'सतीश'), ('LAKSHMIDHAR', 'लक्ष्मीधर'), ('BHEEDE', 'भीड़े'), ('KERAL', 'केरल'), ('KEITA', 'कीटा'), ('ESTES', 'एस्टेस'), ('PASHUPATI', 'पशुपति'), ('BAIRAGNIA', 'बैरागनिया'), ('NEELKAMAL', 'नीलकमल'), ('NASIA', 'नासिया'), ('CLUTTERBUCKGANJ', 'क्लटरबकगंज'), ('KAMESHWAR', 'कामेश्वर'), ('NASIF', 'नसीफ'), ('RAAMASAKHAA', 'रामसखा'), ('SHARVARI', 'शर्वरि'), ('RAKESH', 'राकेश'), ('NASIK', 'नासिक'), ('SABIQAH', 'सबि़काह'), ('JAANDAAR', 'जानदार'), ('BARETH', 'बरेथ'), ('SOMAKAANTAA', 'सोमकांता'), ('HAAROON', 'हारून'), ('AARTI', 'आरती'), ('CAMILA', 'कैमिला'), ('GURUDWARA', 'गुरूद्वारा'), ('BADI', 'बड़ी'), ('SANGAT', 'संगत'), ('ALASTAIR', 'अलस्टेयर'), ('AMRAPALI', 'आम्रपाली'), ('SHAKUN', 'शकुन'), ('FUTUREMEDIA', 'फ़्यूचरमीडिया'), ('PUBLIC', 'पब्लिक'), ('LIMITED', 'लिमिटेड'), ('COMPANY', 'कंपनी'), ('CAROLOS', 'करोलोस'), ('NAMAK', 'नमक'), ('SINDHI', 'सिंधी'), ('ANDAAZ', 'अंदाज़'), ('BAKUL', 'बकुल'), ('GUY', 'गाए'), ('WHITTALL', 'व्हिट्टल'), ('ARGHYA', 'अर्घ्य'), ('SEEMANTINI', 'सीमांतिनी'), ('MAHESH', 'महेश'), ('DWARKA', 'द्वारका'), ('NAISMITH', 'नायस्मिथ'), ('SACRAMENTO', 'सक्रमेंटो'), ('CLAY', 'क्ले'), ('RESEARCH', 'रिसर्च'), ('AWARD', 'अवार्ड'), ('BHASIN', 'भसीन'), ('WOH', 'वो'), ('SAAT', 'सात'), ('DIN', 'दिन'), ('KULARANJAN', 'कुलरंजन'), ('FARHANAH', 'फरहानाह'), ('SHIVA', 'शिवा'), ('GHAR', 'घर'), ('KA', 'का'), ('SUKH', 'सुख'), ('SEVATI', 'सेवती'), ('QUEENS', 'क्वीन्स'), ('EVETTE', 'इवेट'), ('JAGGI', 'जग्गी'), ('TARKAS', 'तरकस'), ('KABHI', 'कभी'), ('DHOOP', 'धूप'), ('KABHI', 'कभी'), ('CHHAON', 'छाँव'), ('PINJRA', 'पिंजरा'), ('GRADY', 'ग्रेडी'), ('SALISH', 'सालिश'), ('ATITHEE', 'अतिथी'), ('CHALU', 'चालू'), ('MERA', 'मेरा'), ('NAAM', 'नाम'), ('DEVADHIP', 'देवाधिप'), ('JARAAH', 'जराह'), ('PHYSIOLOGY', 'फिजियोलॉजी'), ('DEREK', 'डेरेक'), ('PRINGLE', 'प्रिंगल'), ('WILONA', 'विलोना'), ('EULER', 'युलर'), ('MEDAL', 'मेडल'), ('JOHN', 'जॉन'), ('THE', 'द'), ('BAPTIST', 'बैपटिस्ट'), ('CHINA', 'चाइना'), ('GRENTECH', 'ग्रेन्टेक'), ('CORPORATION', 'कॉर्पोरेशन'), ('LIMITED', 'लिमिटेड'), ('MAQBOOL', 'मक़बूल'), ('RAVERKAR', 'रावेरकर'), ('ESME', 'एस्मी'), ('SARKAR', 'सरकार'), ('MERI', 'मेरी'), ('ADALAT', 'अदालत'), ('DIL', 'दिल'), ('KA', 'का'), ('DADA', 'दादा'), ('NADIA', 'नादिया'), ('MALATI', 'मालती'), ('MADHAV', 'माधव'), ('PIERCE', 'पियर्स'), ('KRISHANG', 'कृष्णांग'), ('CANTABRIAN', 'केंटांब्रिअन'), ('MEHSAANA', 'मेहसाना'), ('GIZELA', 'गिज़ेला'), ('PITT', 'पिट'), ('EK', 'एक'), ('SAAL', 'साल'), ('PEHLE', 'पहले'), ('AMGURI', 'अमगुरी'), ('MADURA', 'मदुरा'), ('GARMENTS', 'गारमेंट्स'), ('IREN', 'इरेन'), ('BILL', 'बिल'), ('GATES', 'गेट्स'), ('HAJEEB', 'हजीब'), ('ALHAD', 'आल्हाद'), ('SITAMGAR', 'सितमगर'), ('KEHKASHAN', 'कहकशाँ'), ('CHANDRESAL', 'चंद्रेसल'), ('KINETA', 'किनेटा'), ('COBRA', 'कोबरा'), ('GIRL', 'गर्ल'), ('EAGLE', 'ईगल'), ('SCOUT', 'स्काउट'), ('ZULFAQAR', 'ज़ुल्फ़कार'), ('TACITA', 'टेसिटा'), ('GILL', 'गिल'), ('VADAN', 'वदन'), ('TREND', 'ट्रेंड'), ('STU', 'स्टू'), ('MANEESHAA', 'मनीषा'), ('GEORGIANNA', 'जार्जियाना'), ('FAUSTUS', 'फॉस्टस'), ('GURUDWARA', 'गुरूद्वारा'), ('TAHLIANA', 'टाहलीआणा'), ('SAHIB', 'साहिब'), ('CHRISTIAN', 'क्रिश्चियन'), ('CHURCH', 'चर्च'), ('OF', 'ऑफ'), ('CLARENDON', 'क्लारेनडॉन'), ('HILLS', 'हिल्स'), ('KYONJHAR', 'क्योंझर'), ('TRISTRAM', 'ट्रिस्ट्रम'), ('PREMANAARAAYAN', 'प्रेमनारायण'), ('SMITA', 'स्मिता'), ('WINONA', 'विनोना'), ('RYDER', 'रायडर'), ('ALLEN', 'एलन'), ('GINSBERG', 'जिंसबर्ग'), ('RAMYA', 'रम्या'), ('NANCY', 'नैन्सी'), ('XADRIAN', 'ज़ेड्रियन'), ('GAJAKARNA', 'गजकर्ण'), ('TAMEE', 'तमी'), ('ILLUSTRATORS', 'इलस्ट्रेटर्स'), ('OF', 'ऑफ'), ('THE', 'द'), ('FUTURE', 'फ्यूचर'), ('LIVERPOOL', 'लिवरपूल'), ('COMMUNITY', 'कम्युनिटी'), ('GEOFF', 'जिऑफ'), ('HOWARTH', 'हॉवर्थ'), ('LINCOLN', 'लिंकोलन'), ('NAMOONA', 'नमूना'), ('LAALACHAND', 'लालचंद'), ('SANTOSH', 'संतोष'), ('AL', 'अल'), ('FAISALIAH', 'फैसलीअह'), ('CENTER', 'सेन्टर'), ('KHOSHA', 'खोसा'), ('MARADH', 'मराध'), ('ANTARCTICA', 'अंटार्टिका'), ('TRUCKIN', 'ट्रकिन'), ('RAIQAH', 'रैकाह'), ('HIND', 'हिंद'), ('CONSTR', 'कंसट्रक्शन'), ('CELIA', 'सेलिया'), ('IRENE', 'इरेने'), ('GEOFF', 'ज्यॉफ'), ('DENMARK', 'डेनमार्क'), ('CUTTER', 'कटर'), ('DULIP', 'दुलीप'), ('SAMARAWEERA', 'सामरावीरा'), ('PYAR', 'प्यार'), ('KA', 'का'), ('PAHLA', 'पहला'), ('SAWAN', 'सावन'), ('MRIDULA', 'मृदुला'), ('JAYAWARDENE', 'जयवर्दने'), ('GUOQIN', 'ग्योकिन'), ('BARNEY', 'बर्नी'), ('ROGERS', 'रॉजर्स'), ('APNA', 'अपना'), ('BANA', 'बना'), ('LO', 'लो'), ('MUSEUM', 'म्युज़ियम'), ('OF', 'ऑफ'), ('WELSH', 'वेल्श'), ('LIFE', 'लाइफ'), ('MODERN', 'मॉडर्न'), ('YOUTH', 'यूथ'), ('HERA', 'हेरा'), ('PHERI', 'फेरी'), ('NETWORK', 'नेटवर्क'), ('SHAHJAHANPUR', 'शाहजहाँपुर'), ('VOLVO', 'वॉल्वो'), ('CHARITRAHEEN', 'चरित्रहीन'), ('GAYLORD', 'गेलॉर्ड'), ('ZOLTIN', 'ज़ोल्टिन'), ('TOUBRO', 'टूब्रो'), ('INFOTECH', 'इंफ़ोटेक'), ('DANNIELL', 'डेनियल'), ('RICHTERSVELD', 'रिचस्ट्रेसवेल्ड'), ('APURV', 'अपूर्व'), ('PUJA', 'पूजा'), ('RAAMALAAL', 'रामलाल'), ('HYDRO', 'हाइड्रो'), ('BANK', 'बैंक'), ('OF', 'ऑफ'), ('PLAZA', 'प्लाज़ा'), ('VIVEK', 'विवेक'), ('RAZDAN', 'राजदान'), ('KYLEMORE', 'किलमोर'), ('DOT', 'डॉट'), ('ARAL', 'अरल'), ('WICKRAMASINGHE', 'विक्रमासिंघे'), ('LOOTS', 'लूट्स'), ('BOSMAN', 'बॉसमन'), ('SANWARIYA', 'सांवरिया'), ('HEMCHAND', 'हेमचंद'), ('UGO', 'उगो'), ('RAGHUVANSH', 'रघुवंश'), ('PRITISH', 'प्रितिश'), ('NANDY', 'नंदी'), ('COMMUNICATIONS', 'कम्युनिकेशन'), ('ROFFE', 'रॉफिल'), ('DESHMUKH', 'देशमुख'), ('PINQUILLO', 'पिंक्वीलो'), ('ORDEN', 'ऑर्डेन'), ('DE', 'डे'), ('MANUEL', 'मैनुएल'), ('AMADOR', 'एमाडोर'), ('GUERRERO', 'ग्युरेरो'), ('ELHAM', 'इलहाम'), ('BANAMALA', 'बनमाला'), ('FRANK', 'फ्रेंक'), ('HAYES', 'हेस'), ('MUDRA', 'मुद्रा'), ('LION', 'लायन'), ('BAKHTIAAR', 'बख्तियार'), ('OSMANABAD', 'उस्मानाबाद'), ('HOLI', 'होली'), ('AYEE', 'आई'), ('RE', 'रे'), ('RANGNATHAR', 'रंगनाथार'), ('NILEEN', 'निलीन'), ('CITYSPIRE', 'सिटीस्पार'), ('ALEEMA', 'अलीमा'), ('MUNNA', 'मुन्ना'), ('BURLEIGH', 'बर्ले'), ('DOUBLE', 'डबल'), ('GOSAVI', 'गोसावी'), ('PAUM', 'पौम'), ('DOYEN', 'डोएन'), ('RANGANA', 'रंगना'), ('CAMBRIDGE', 'कैम्ब्रिज'), ('SCHOOL', 'स्कूल'), ('INDIRAPURAM', 'इंदिरापुरम'), ('GUPTE', 'गुप्ते'), ('RAJASTHAN', 'राजस्थान'), ('PATRIKA', 'पत्रिका'), ('MURSAL', 'मुरसल'), ('GIRAFTAAR', 'गिरफ्तार'), ('SHEHZAADE', 'शहज़ादे'), ('SANYASI', 'सन्यासी')]\n",
            "<class 'list'>\n"
          ],
          "name": "stdout"
        }
      ]
    },
    {
      "cell_type": "code",
      "metadata": {
        "id": "xJb5BGvcY6g3"
      },
      "source": [
        "train_data = readXml('NEWS2012TrainingEnHi13937-1563719470862.xml')\n",
        "test_data = readXml('NEWS2012RefEnHi1000-1563719263404.xml')"
      ],
      "execution_count": 9,
      "outputs": []
    },
    {
      "cell_type": "code",
      "metadata": {
        "colab": {
          "base_uri": "https://localhost:8080/"
        },
        "id": "Lunx51_cUZBh",
        "outputId": "8d6084bf-6b09-408c-f2fb-2cdaef4f836d"
      },
      "source": [
        "print(type(train_data))\n",
        "print(len(test_data))"
      ],
      "execution_count": 10,
      "outputs": [
        {
          "output_type": "stream",
          "text": [
            "<class 'list'>\n",
            "1000\n"
          ],
          "name": "stdout"
        }
      ]
    },
    {
      "cell_type": "code",
      "metadata": {
        "colab": {
          "base_uri": "https://localhost:8080/"
        },
        "id": "ntHfFdk0C3W7",
        "outputId": "2cda0e1b-17e1-4010-f498-62440091cbf9"
      },
      "source": [
        "print(train_data[1:10])\n",
        "data_ = [[ i for i, j in train_data[1:10] ],\n",
        "       [ j for i, j in train_data[1:10] ]]\n",
        "# print(data_)\n",
        "print(list(zip(*train_data[1:10])))\n",
        "print([ i for i, j in train_data[1:10]])"
      ],
      "execution_count": 11,
      "outputs": [
        {
          "output_type": "stream",
          "text": [
            "[('DEOGAN', 'देवगन'), ('ROAD', 'रोड'), ('SHATRUMARDAN', 'शत्रुमर्दन'), ('MAHIJUBA', 'महिजुबा'), ('SABINE', 'सैबिन'), ('BILL', 'बिल'), ('COSBY', 'कॉस्बी'), ('RISHTA', 'रिश्ता'), ('KAGAZ', 'कागज़')]\n",
            "[('DEOGAN', 'ROAD', 'SHATRUMARDAN', 'MAHIJUBA', 'SABINE', 'BILL', 'COSBY', 'RISHTA', 'KAGAZ'), ('देवगन', 'रोड', 'शत्रुमर्दन', 'महिजुबा', 'सैबिन', 'बिल', 'कॉस्बी', 'रिश्ता', 'कागज़')]\n",
            "['DEOGAN', 'ROAD', 'SHATRUMARDAN', 'MAHIJUBA', 'SABINE', 'BILL', 'COSBY', 'RISHTA', 'KAGAZ']\n"
          ],
          "name": "stdout"
        }
      ]
    },
    {
      "cell_type": "markdown",
      "metadata": {
        "id": "nGE-kfDrDOrE"
      },
      "source": [
        "### Encoding words"
      ]
    },
    {
      "cell_type": "code",
      "metadata": {
        "colab": {
          "base_uri": "https://localhost:8080/"
        },
        "id": "y7qE73T2DRu1",
        "outputId": "2675154c-73f0-4ea3-b33b-c72f6f75eb0f"
      },
      "source": [
        "print(train_data[1][0])"
      ],
      "execution_count": 12,
      "outputs": [
        {
          "output_type": "stream",
          "text": [
            "DEOGAN\n"
          ],
          "name": "stdout"
        }
      ]
    },
    {
      "cell_type": "code",
      "metadata": {
        "id": "BlDsdITTXe8y"
      },
      "source": [
        "def eng_encoded(word_, device = 'cpu'):\n",
        "  # print(word_)\n",
        "  word_ohe = torch.zeros(len(word_)+1,1,len(eng_alphabets)).to(device)\n",
        "  for index_,char_ in enumerate(word_):    \n",
        "    pos = eng_alphabets.find(char_)    \n",
        "    word_ohe[index_][0][pos] = 1\n",
        "  word_ohe[index_+1][0][0] = 1 # pad\n",
        "  return word_ohe"
      ],
      "execution_count": 16,
      "outputs": []
    },
    {
      "cell_type": "code",
      "metadata": {
        "colab": {
          "base_uri": "https://localhost:8080/"
        },
        "id": "SnizX-kGXM6w",
        "outputId": "9526c5db-80f0-470a-da19-d550f1a3babe"
      },
      "source": [
        "eng_enc = eng_encoded(train_data[1][0])\n",
        "print(eng_enc)"
      ],
      "execution_count": 17,
      "outputs": [
        {
          "output_type": "stream",
          "text": [
            "tensor([[[0., 0., 0., 0., 1., 0., 0., 0., 0., 0., 0., 0., 0., 0., 0., 0., 0.,\n",
            "          0., 0., 0., 0., 0., 0., 0., 0., 0., 0.]],\n",
            "\n",
            "        [[0., 0., 0., 0., 0., 1., 0., 0., 0., 0., 0., 0., 0., 0., 0., 0., 0.,\n",
            "          0., 0., 0., 0., 0., 0., 0., 0., 0., 0.]],\n",
            "\n",
            "        [[0., 0., 0., 0., 0., 0., 0., 0., 0., 0., 0., 0., 0., 0., 0., 1., 0.,\n",
            "          0., 0., 0., 0., 0., 0., 0., 0., 0., 0.]],\n",
            "\n",
            "        [[0., 0., 0., 0., 0., 0., 0., 1., 0., 0., 0., 0., 0., 0., 0., 0., 0.,\n",
            "          0., 0., 0., 0., 0., 0., 0., 0., 0., 0.]],\n",
            "\n",
            "        [[0., 1., 0., 0., 0., 0., 0., 0., 0., 0., 0., 0., 0., 0., 0., 0., 0.,\n",
            "          0., 0., 0., 0., 0., 0., 0., 0., 0., 0.]],\n",
            "\n",
            "        [[0., 0., 0., 0., 0., 0., 0., 0., 0., 0., 0., 0., 0., 0., 1., 0., 0.,\n",
            "          0., 0., 0., 0., 0., 0., 0., 0., 0., 0.]],\n",
            "\n",
            "        [[1., 0., 0., 0., 0., 0., 0., 0., 0., 0., 0., 0., 0., 0., 0., 0., 0.,\n",
            "          0., 0., 0., 0., 0., 0., 0., 0., 0., 0.]]])\n"
          ],
          "name": "stdout"
        }
      ]
    },
    {
      "cell_type": "code",
      "metadata": {
        "id": "8T5CKhPvmm88"
      },
      "source": [
        "def hindi_encoded(word_, device = 'cpu'):\n",
        "  # print(word_)\n",
        "  hindi_enc = torch.zeros([len(word_)+1,1],dtype=torch.long).to(device)\n",
        "  for index_, char_ in enumerate(word_):\n",
        "    #  print(char_)\n",
        "    pos = hindi_alphabets.index(char_)\n",
        "    # print(pos)\n",
        "    hindi_enc[index_][0] = pos \n",
        "  hindi_enc[index_+1][0] = 0\n",
        "  return hindi_enc"
      ],
      "execution_count": 18,
      "outputs": []
    },
    {
      "cell_type": "code",
      "metadata": {
        "colab": {
          "base_uri": "https://localhost:8080/"
        },
        "id": "1iI3tJMkswDM",
        "outputId": "23daa0af-6fd8-4e5e-ef84-16a75312c940"
      },
      "source": [
        "hindi_enc = hindi_encoded(train_data[4][1])\n",
        "print(hindi_enc)"
      ],
      "execution_count": 19,
      "outputs": [
        {
          "output_type": "stream",
          "text": [
            "tensor([[47],\n",
            "        [58],\n",
            "        [64],\n",
            "        [29],\n",
            "        [66],\n",
            "        [45],\n",
            "        [63],\n",
            "        [ 0]])\n"
          ],
          "name": "stdout"
        }
      ]
    },
    {
      "cell_type": "markdown",
      "metadata": {
        "id": "CWEs9HRL0pZR"
      },
      "source": [
        "### Encoder Decoder without Attention\n"
      ]
    },
    {
      "cell_type": "code",
      "metadata": {
        "id": "TJF4FR750sN_"
      },
      "source": [
        "MAX_OUTPUT_CHARS = 30\n",
        "class Transliteration_EncoderDecoder(nn.Module):\n",
        "    \n",
        "    def __init__(self, input_size, hidden_size, output_size, verbose=False):\n",
        "        super(Transliteration_EncoderDecoder, self).__init__()\n",
        "        \n",
        "        self.hidden_size = hidden_size\n",
        "        self.output_size = output_size\n",
        "        \n",
        "        self.encoder_rnn_cell = nn.GRU(input_size, hidden_size)\n",
        "        self.decoder_rnn_cell = nn.GRU(output_size, hidden_size)\n",
        "        \n",
        "        self.h2o = nn.Linear(hidden_size, output_size)\n",
        "        self.softmax = nn.LogSoftmax(dim=2)\n",
        "        \n",
        "        self.verbose = verbose\n",
        "        \n",
        "    def forward(self, input, max_output_chars = MAX_OUTPUT_CHARS, device = 'cpu', ground_truth = None):\n",
        "        \n",
        "        # encoder\n",
        "        out, hidden = self.encoder_rnn_cell(input)\n",
        "        \n",
        "        if self.verbose:\n",
        "            print('Encoder input', input.shape)\n",
        "            print('Encoder output', out.shape) # includes surrounding chars to get 256\n",
        "            print('Encoder hidden', hidden.shape)\n",
        "        \n",
        "        # decoder\n",
        "        decoder_state = hidden\n",
        "        decoder_input = torch.zeros(1, 1, self.output_size).to(device)\n",
        "        outputs = []\n",
        "        \n",
        "        if self.verbose:\n",
        "            print('Decoder state', decoder_state.shape)\n",
        "            print('Decoder input', decoder_input.shape)\n",
        "        \n",
        "        for i in range(max_output_chars):\n",
        "            \n",
        "            out, decoder_state = self.decoder_rnn_cell(decoder_input, decoder_state)\n",
        "            \n",
        "            if self.verbose:\n",
        "                print('Decoder intermediate output', out.shape)\n",
        "            \n",
        "            out = self.h2o(decoder_state)\n",
        "            out = self.softmax(out)\n",
        "            outputs.append(out.view(1, -1))\n",
        "            \n",
        "            if self.verbose:\n",
        "                print('Decoder output', out.shape)\n",
        "                self.verbose = False           \n",
        "            max_idx = torch.argmax(out, 2, keepdim=True)            \n",
        "           \n",
        "            if not ground_truth is None:\n",
        "                max_idx = ground_truth[i].reshape(1, 1, 1)\n",
        "            # print(out,'out')\n",
        "            \n",
        "            # one_hot = torch.zeros(out.shape, device=device)\n",
        "            one_hot = torch.FloatTensor(out.shape).to(device)\n",
        "            one_hot.zero_()           \n",
        "            one_hot.scatter_(2, max_idx, 1)\n",
        "            # print(one_hot,'scatter')\n",
        "            \n",
        "            decoder_input = one_hot.detach()\n",
        "            \n",
        "        return outputs"
      ],
      "execution_count": 20,
      "outputs": []
    },
    {
      "cell_type": "code",
      "metadata": {
        "id": "uSZ6VfZg1Jzb"
      },
      "source": [
        "net_wt = Transliteration_EncoderDecoder(len(eng_alphabets), 256, len(hindi_alphabets), verbose=True)"
      ],
      "execution_count": 75,
      "outputs": []
    },
    {
      "cell_type": "code",
      "metadata": {
        "id": "JYQmwzpNoDoG"
      },
      "source": [
        "def infer(net, name_,device='cpu'):\n",
        "    # print(device)\n",
        "    word_ohe = eng_encoded(name_,device).to(device) \n",
        "\n",
        "    # print(word_ohe) \n",
        "    # print(type(word_ohe))\n",
        "    outputs = net(word_ohe,30)\n",
        "    type(outputs)\n",
        "    y_pred= []  \n",
        "    for index, output in enumerate(outputs):\n",
        "        #  print(torch.argmax(output))\n",
        "         y_pred.append(hindi_alphabets[torch.argmax(output)])\n",
        "        #  print(hindi_alphabets[torch.argmax(output)])\n",
        "    print(y_pred) \n",
        "    return outputs \n"
      ],
      "execution_count": 34,
      "outputs": []
    },
    {
      "cell_type": "code",
      "metadata": {
        "id": "MuvZ_xwZ1LtX",
        "colab": {
          "base_uri": "https://localhost:8080/"
        },
        "outputId": "2ead732f-17bf-4e2f-c63a-adc7ef05c7da"
      },
      "source": [
        "out = infer(net_wt, 'INDIA', device_gpu) #prints random characters as it is not trained yet\n",
        "print(len(out))"
      ],
      "execution_count": 76,
      "outputs": [
        {
          "output_type": "stream",
          "text": [
            "Encoder input torch.Size([6, 1, 27])\n",
            "Encoder output torch.Size([6, 1, 256])\n",
            "Encoder hidden torch.Size([1, 1, 256])\n",
            "Decoder state torch.Size([1, 1, 256])\n",
            "Decoder input torch.Size([1, 1, 129])\n",
            "Decoder intermediate output torch.Size([1, 1, 256])\n",
            "Decoder output torch.Size([1, 1, 129])\n",
            "['ि', 'क', 'फ़', 'फ़', 'फ़', 'फ़', 'फ़', 'फ़', 'फ़', 'फ़', 'फ़', 'फ़', 'फ़', 'फ़', 'फ़', 'फ़', 'फ़', 'फ़', 'फ़', 'फ़', 'फ़', 'फ़', 'फ़', 'फ़', 'फ़', 'फ़', 'फ़', 'फ़', 'फ़', 'फ़']\n",
            "30\n"
          ],
          "name": "stdout"
        }
      ]
    },
    {
      "cell_type": "markdown",
      "metadata": {
        "id": "bCdkJNK4Vezd"
      },
      "source": [
        "###Train the model"
      ]
    },
    {
      "cell_type": "code",
      "metadata": {
        "id": "tKIhrXculRXt"
      },
      "source": [
        "def dataload(train_data, batch_size):\n",
        " tl  = torch.utils.data.DataLoader(train_data, batch_size, shuffle=True)\n",
        "\n",
        " for index, data_ in enumerate(tl):\n",
        "    eng_batch, hindi_batch = data_\n",
        "    # print('next')\n",
        "    return eng_batch, hindi_batch"
      ],
      "execution_count": 26,
      "outputs": []
    },
    {
      "cell_type": "code",
      "metadata": {
        "id": "JCMPAew8le5S"
      },
      "source": [
        "# eng_batch, hindi_batch = dataload()\n",
        "\n",
        "# print(eng_batch[34])"
      ],
      "execution_count": null,
      "outputs": []
    },
    {
      "cell_type": "code",
      "metadata": {
        "id": "h5moDjzLnZ0Y"
      },
      "source": [
        "# batch_input  = torch.utils.data.DataLoader(train_data, 64, shuffle=True)\n",
        "#  for i, data in enumerate(batch_input):\n",
        "#         inputs, labels = data\n",
        "#         print(inputs, ' inp')\n",
        "#         print(labels,'labels')"
      ],
      "execution_count": null,
      "outputs": []
    },
    {
      "cell_type": "code",
      "metadata": {
        "id": "x-dDBgBzXhaz"
      },
      "source": [
        "# tl  = torch.utils.data.DataLoader(train_data, 64, shuffle=True)\n",
        "# dataiter = iter(tl)\n",
        "# eng_from_batch =[]\n",
        "# hindi_from_batch = []\n",
        "# for eng_batch, hindi_batch in dataiter:\n",
        "#   # print(eng_batch)\n",
        "#     eng_from_batch.append(eng_batch)\n",
        "#     hindi_from_batch.append(hindi_batch)"
      ],
      "execution_count": null,
      "outputs": []
    },
    {
      "cell_type": "code",
      "metadata": {
        "id": "g6g8TCMvVgyU"
      },
      "source": [
        "def train_batch(net, opt, criterion, batch_size, device = 'cpu', teacher_force = False):\n",
        "    \n",
        "    net.train().to(device)\n",
        "    opt.zero_grad()    \n",
        "    eng_batch, hindi_batch= dataload(train_data, batch_size)    \n",
        "        \n",
        "    total_loss = 0\n",
        "    for i in range(batch_size):\n",
        "        # print(i , 'batch_size')\n",
        "        # print(eng_batch[i] , 'i')\n",
        "        # print(hindi_batch[i])\n",
        "        # print(i , \"i\")\n",
        "        \n",
        "        input = eng_encoded(eng_batch[i], device)\n",
        "        # print(input,'input')\n",
        "        gt = hindi_encoded(hindi_batch[i], device)\n",
        "        # print(gt.shape[0],'gt')\n",
        "        outputs = net(input, gt.shape[0], device, ground_truth = gt if teacher_force else None)\n",
        "        # y_pred = []\n",
        "        for index, output in enumerate(outputs):\n",
        "            # \n",
        "            # print(output, ' ::output',gt[index], ' ::gt index' )\n",
        "            # y_pred.append(hindi_alphabets[torch.argmax(output)])\n",
        "            loss = criterion(output, gt[index]) / batch_size\n",
        "            loss.backward(retain_graph = True)\n",
        "            total_loss += loss      \n",
        "    opt.step()\n",
        "    # print(y_pred)\n",
        "    return total_loss/batch_size"
      ],
      "execution_count": 27,
      "outputs": []
    },
    {
      "cell_type": "code",
      "metadata": {
        "id": "fMo3emTlaU0t"
      },
      "source": [
        "def train_setup(net, lr = 0.01, n_batches = 100, batch_size = 10, momentum = 0.9, display_freq=5, device = 'cpu'):\n",
        "    \n",
        "    net = net.to(device)\n",
        "    criterion = nn.NLLLoss(ignore_index = -1)\n",
        "    opt = optim.Adam(net.parameters(), lr=lr)\n",
        "    teacher_force_upto = n_batches//3   \n",
        "    \n",
        "    loss_arr = np.zeros(n_batches + 1)\n",
        "       \n",
        "    for i in range(n_batches):\n",
        "        # print(i , 'n_batches')\n",
        "        loss_arr[i+1] = (loss_arr[i]*i + train_batch(net, opt, criterion, batch_size, device = device, teacher_force = i<teacher_force_upto ))/(i + 1)\n",
        "        \n",
        "        if i%display_freq == display_freq-1:\n",
        "            clear_output(wait=True)\n",
        "            \n",
        "            print('Iteration', i, 'Loss', loss_arr[i])\n",
        "            plt.figure()\n",
        "            plt.plot(loss_arr[1:i], '-*')\n",
        "            plt.xlabel('Iteration')\n",
        "            plt.ylabel('Loss')\n",
        "            plt.show()\n",
        "            print('\\n\\n')\n",
        "            \n",
        "    torch.save(net, 'model.pt')\n",
        "    return loss_arr"
      ],
      "execution_count": 28,
      "outputs": []
    },
    {
      "cell_type": "code",
      "metadata": {
        "id": "ADP1EnetaZKk"
      },
      "source": [
        "net = Transliteration_EncoderDecoder(len(eng_alphabets), 256, len(hindi_alphabets))"
      ],
      "execution_count": 30,
      "outputs": []
    },
    {
      "cell_type": "markdown",
      "metadata": {
        "id": "PzJ8ARouugjt"
      },
      "source": [
        "#### Compute Loss"
      ]
    },
    {
      "cell_type": "code",
      "metadata": {
        "colab": {
          "base_uri": "https://localhost:8080/",
          "height": 383
        },
        "id": "rpDtTZqqafUt",
        "outputId": "158fea92-12dc-4171-bb86-ed4b661ab5f7"
      },
      "source": [
        "train_setup(net, lr=0.001, n_batches=2000, batch_size = 64, display_freq=10, device = device_gpu)#n_batches=2000"
      ],
      "execution_count": 31,
      "outputs": [
        {
          "output_type": "stream",
          "text": [
            "Iteration 1999 Loss 0.18928761780261993\n"
          ],
          "name": "stdout"
        },
        {
          "output_type": "display_data",
          "data": {
            "image/png": "[encoded data removed]",
            "text/plain": [
              "<Figure size 432x288 with 1 Axes>"
            ]
          },
          "metadata": {
            "tags": [],
            "needs_background": "light"
          }
        },
        {
          "output_type": "stream",
          "text": [
            "\n",
            "\n",
            "\n"
          ],
          "name": "stdout"
        },
        {
          "output_type": "execute_result",
          "data": {
            "text/plain": [
              "array([0.        , 0.4691259 , 0.47677228, ..., 0.18933263, 0.18928762,\n",
              "       0.1892481 ])"
            ]
          },
          "metadata": {
            "tags": []
          },
          "execution_count": 31
        }
      ]
    },
    {
      "cell_type": "code",
      "metadata": {
        "colab": {
          "base_uri": "https://localhost:8080/"
        },
        "id": "02k8OOBz6q_s",
        "outputId": "7ba8d227-1260-49b0-d2b2-df31f72abbf2"
      },
      "source": [
        "out = infer(net, 'INDIA', device_gpu) #after training\n",
        "print(len(out))"
      ],
      "execution_count": 36,
      "outputs": [
        {
          "output_type": "stream",
          "text": [
            "['इ', 'ं', 'ड', 'ि', 'य', 'ा', '-', '-', '-', '-', '-', '-', '-', '-', '-', '-', '-', '-', '-', '-', '-', '-', '-', '-', '-', '-', '-', '-', '-', '-']\n",
            "30\n"
          ],
          "name": "stdout"
        }
      ]
    },
    {
      "cell_type": "code",
      "metadata": {
        "colab": {
          "base_uri": "https://localhost:8080/"
        },
        "id": "dMu2gnufPFza",
        "outputId": "05d1081e-8f4e-40c5-ff40-dc010aaea93d"
      },
      "source": [
        "out = infer(net, 'CLASS', device_gpu) \n"
      ],
      "execution_count": 43,
      "outputs": [
        {
          "output_type": "stream",
          "text": [
            "['क', '्', 'ल', 'ा', 'स', 'स', '-', '-', '-', '-', '-', '-', '-', '-', '-', '-', '-', '-', '-', '-', '-', '-', '-', '-', '-', '-', '-', '-', '-', '-']\n"
          ],
          "name": "stdout"
        }
      ]
    },
    {
      "cell_type": "markdown",
      "metadata": {
        "id": "stZu3ZHqC9A9"
      },
      "source": [
        "### Encoder decoder model with Attention"
      ]
    },
    {
      "cell_type": "code",
      "metadata": {
        "id": "Xo6lronYagK3"
      },
      "source": [
        "class Transliteration_EncoderDecoder_Attention(nn.Module):\n",
        "    \n",
        "    def __init__(self, input_size, hidden_size, output_size, verbose=False):\n",
        "        super(Transliteration_EncoderDecoder_Attention, self).__init__()\n",
        "        \n",
        "        self.hidden_size = hidden_size\n",
        "        self.output_size = output_size\n",
        "        \n",
        "        self.encoder_rnn_cell = nn.GRU(input_size, hidden_size)\n",
        "        self.decoder_rnn_cell = nn.GRU(hidden_size*2, hidden_size)\n",
        "        \n",
        "        self.h2o = nn.Linear(hidden_size, output_size)\n",
        "        self.softmax = nn.LogSoftmax(dim=2)\n",
        "        \n",
        "        self.U = nn.Linear(self.hidden_size, self.hidden_size)\n",
        "        self.W = nn.Linear(self.hidden_size, self.hidden_size)\n",
        "        self.attn = nn.Linear(self.hidden_size, 1)\n",
        "        self.out2hidden = nn.Linear(self.output_size, self.hidden_size)   \n",
        "        \n",
        "        self.verbose = verbose\n",
        "        \n",
        "    def forward(self, input, max_output_chars = MAX_OUTPUT_CHARS, device = 'cpu', ground_truth = None):\n",
        "        \n",
        "        # encoder\n",
        "        encoder_outputs, hidden = self.encoder_rnn_cell(input)\n",
        "        encoder_outputs = encoder_outputs.view(-1, self.hidden_size)\n",
        "        \n",
        "        if self.verbose:\n",
        "            print('Encoder output', encoder_outputs.shape)\n",
        "        \n",
        "        # decoder\n",
        "        decoder_state = hidden\n",
        "        decoder_input = torch.zeros(1, 1, self.output_size).to(device)\n",
        "        \n",
        "        outputs = []\n",
        "        U = self.U(encoder_outputs)\n",
        "        \n",
        "        if self.verbose:\n",
        "            print('Decoder state', decoder_state.shape)\n",
        "            print('Decoder intermediate input', decoder_input.shape)\n",
        "            print('U * Encoder output', U.shape)\n",
        "        \n",
        "        for i in range(max_output_chars):\n",
        "            \n",
        "            W = self.W(decoder_state.view(1, -1).repeat(encoder_outputs.shape[0], 1))\n",
        "            V = self.attn(torch.tanh(U + W))\n",
        "            attn_weights = F.softmax(V.view(1, -1), dim = 1) \n",
        "            \n",
        "            if self.verbose:\n",
        "                print('W * Decoder state', W.shape)\n",
        "                print('V', V.shape)\n",
        "                print('Attn', attn_weights.shape)\n",
        "            \n",
        "            attn_applied = torch.bmm(attn_weights.unsqueeze(0),\n",
        "                                 encoder_outputs.unsqueeze(0))\n",
        "            \n",
        "            embedding = self.out2hidden(decoder_input)\n",
        "            decoder_input = torch.cat((embedding[0], attn_applied[0]), 1).unsqueeze(0)\n",
        "            \n",
        "            if self.verbose:\n",
        "                print('Attn LC', attn_applied.shape)\n",
        "                print('Decoder input', decoder_input.shape)\n",
        "                \n",
        "            out, decoder_state = self.decoder_rnn_cell(decoder_input, decoder_state)\n",
        "            \n",
        "            if self.verbose:\n",
        "                print('Decoder intermediate output', out.shape)\n",
        "                \n",
        "            out = self.h2o(decoder_state)\n",
        "            out = self.softmax(out)\n",
        "            outputs.append(out.view(1, -1))\n",
        "            \n",
        "            if self.verbose:\n",
        "                print('Decoder output', out.shape)\n",
        "                self.verbose = False\n",
        "            \n",
        "            max_idx = torch.argmax(out, 2, keepdim=True)\n",
        "            # print(max_idx)\n",
        "            if not ground_truth is None:\n",
        "                max_idx = ground_truth[i].reshape(1, 1, 1)\n",
        "            one_hot = torch.zeros(out.shape, device=device)\n",
        "            one_hot.scatter_(2, max_idx, 1) \n",
        "            \n",
        "            decoder_input = one_hot.detach()\n",
        "            \n",
        "        return outputs"
      ],
      "execution_count": 66,
      "outputs": []
    },
    {
      "cell_type": "code",
      "metadata": {
        "id": "S_kEg5_qyPnM"
      },
      "source": [
        "net_attn = Transliteration_EncoderDecoder_Attention(len(eng_alphabets), 256, len(hindi_alphabets), verbose=True)"
      ],
      "execution_count": 67,
      "outputs": []
    },
    {
      "cell_type": "markdown",
      "metadata": {
        "id": "xK8d4NMQuqbP"
      },
      "source": [
        "#### Compute Loss"
      ]
    },
    {
      "cell_type": "code",
      "metadata": {
        "id": "8HX5tLIZyRqN",
        "colab": {
          "base_uri": "https://localhost:8080/",
          "height": 349
        },
        "outputId": "073a2d91-e7f0-4d3a-f978-cd46ebec101f"
      },
      "source": [
        "loss_history = train_setup(net_attn, lr=0.001, n_batches=2000, batch_size = 64, display_freq=10, device = device_gpu) #n_batches=2000n"
      ],
      "execution_count": 68,
      "outputs": [
        {
          "output_type": "stream",
          "text": [
            "Iteration 1999 Loss 0.1394243836402893\n"
          ],
          "name": "stdout"
        },
        {
          "output_type": "display_data",
          "data": {
            "image/png": "[encoded data removed]",
            "text/plain": [
              "<Figure size 432x288 with 1 Axes>"
            ]
          },
          "metadata": {
            "tags": [],
            "needs_background": "light"
          }
        },
        {
          "output_type": "stream",
          "text": [
            "\n",
            "\n",
            "\n"
          ],
          "name": "stdout"
        }
      ]
    },
    {
      "cell_type": "markdown",
      "metadata": {
        "id": "QN6qVw_duvtH"
      },
      "source": [
        "### Inference"
      ]
    },
    {
      "cell_type": "code",
      "metadata": {
        "colab": {
          "base_uri": "https://localhost:8080/"
        },
        "id": "eyoCaP9_B-WM",
        "outputId": "bfcc656d-6b99-4fc0-d75e-68c0510c0e27"
      },
      "source": [
        "out = infer(net_attn, 'CLASS', device_gpu) #after training\n"
      ],
      "execution_count": 74,
      "outputs": [
        {
          "output_type": "stream",
          "text": [
            "['क', '्', 'ल', 'ा', 'स', '-', '-', '-', '-', '-', '-', '-', '-', '-', '-', '-', '-', '-', '-', '-', '-', '-', '-', '-', '-', '-', '-', '-', '-', '-']\n"
          ],
          "name": "stdout"
        }
      ]
    },
    {
      "cell_type": "code",
      "metadata": {
        "colab": {
          "base_uri": "https://localhost:8080/"
        },
        "id": "wuEUx7psCJwd",
        "outputId": "35fe57a3-1e68-47e7-8525-a0774d27c3e8"
      },
      "source": [
        "out = infer(net, 'CROCODILE', device_gpu)#Encoder and decoder without attention"
      ],
      "execution_count": 71,
      "outputs": [
        {
          "output_type": "stream",
          "text": [
            "['क', '्', 'र', 'ो', 'क', '्', 'ल', 'ि', '-', '-', '-', '-', '-', '-', '-', '-', '-', '-', '-', '-', '-', '-', '-', '-', '-', '-', '-', '-', '-', '-']\n"
          ],
          "name": "stdout"
        }
      ]
    },
    {
      "cell_type": "code",
      "metadata": {
        "colab": {
          "base_uri": "https://localhost:8080/"
        },
        "id": "cvvb0iK7CEOJ",
        "outputId": "4eb41dc6-a5b0-49b9-8ea8-6f787355dbb1"
      },
      "source": [
        "out = infer(net_attn, 'CROCODILE', device_gpu) #Encoder and decoder with attention - Better at predicting"
      ],
      "execution_count": 70,
      "outputs": [
        {
          "output_type": "stream",
          "text": [
            "['क', '्', 'र', 'ो', 'क', 'ो', 'ड', 'ि', 'ल', '-', '-', '-', '-', '-', '-', '-', '-', '-', '-', '-', '-', '-', '-', '-', '-', '-', '-', '-', '-', '-']\n"
          ],
          "name": "stdout"
        }
      ]
    }
  ]
}