{
  "nbformat": 4,
  "nbformat_minor": 0,
  "metadata": {
    "colab": {
      "name": "RNN_name2nat.ipynb",
      "provenance": [],
      "collapsed_sections": [],
      "toc_visible": true,
      "mount_file_id": "1N7tmOcqcKQfn3YnW6xP5HUBsuW3aIC6K",
      "authorship_tag": "ABX9TyN3dXzbBXhH7e63KPVrwUxW",
      "include_colab_link": true
    },
    "kernelspec": {
      "name": "python3",
      "display_name": "Python 3"
    },
    "language_info": {
      "name": "python"
    }
  },
  "cells": [
    {
      "cell_type": "markdown",
      "metadata": {
        "id": "view-in-github",
        "colab_type": "text"
      },
      "source": [
        "<a href=\"https://colab.research.google.com/github/pskaranth/thelearningcurve/blob/master/DeepLearning/RNN/Name2Nat/RNN_name2nat.ipynb\" target=\"_parent\"><img src=\"https://colab.research.google.com/assets/colab-badge.svg\" alt=\"Open In Colab\"/></a>"
      ]
    },
    {
      "cell_type": "code",
      "metadata": {
        "id": "PzNiSsf0iP1F"
      },
      "source": [
        "from urllib.request import urlretrieve\n",
        "import io"
      ],
      "execution_count": null,
      "outputs": []
    },
    {
      "cell_type": "code",
      "metadata": {
        "id": "GeHf2IkPZ7_T"
      },
      "source": [
        "import string\n",
        "from sklearn.model_selection import train_test_split\n",
        "import numpy as np"
      ],
      "execution_count": null,
      "outputs": []
    },
    {
      "cell_type": "code",
      "metadata": {
        "id": "Hqx7jIQnqOsp"
      },
      "source": [
        "import torch\n",
        "import torch.nn as nn\n",
        "import torch.optim as optim"
      ],
      "execution_count": null,
      "outputs": []
    },
    {
      "cell_type": "code",
      "metadata": {
        "id": "OfWYrTPp6mHC"
      },
      "source": [
        "from IPython.display import clear_output\n",
        "import matplotlib.pyplot as plt"
      ],
      "execution_count": null,
      "outputs": []
    },
    {
      "cell_type": "code",
      "metadata": {
        "colab": {
          "base_uri": "https://localhost:8080/"
        },
        "id": "tD1jwjJTZYnn",
        "outputId": "5b1fa7b7-af4b-434d-a516-1833a9b39d45"
      },
      "source": [
        "file_name = 'name2lang.txt'\n",
        "urlretrieve('https://raw.githubusercontent.com/pskaranth/thelearningcurve/master/DeepLearning/RNN/Name2Nat/name2lang.txt', file_name)"
      ],
      "execution_count": null,
      "outputs": [
        {
          "output_type": "execute_result",
          "data": {
            "text/plain": [
              "('name2lang.txt', <http.client.HTTPMessage at 0x7f87eb4d97d0>)"
            ]
          },
          "metadata": {
            "tags": []
          },
          "execution_count": 7
        }
      ]
    },
    {
      "cell_type": "markdown",
      "metadata": {
        "id": "oOaA_YkYZMzG"
      },
      "source": [
        "###Reading the file and adding name and nationalities into a list"
      ]
    },
    {
      "cell_type": "code",
      "metadata": {
        "colab": {
          "base_uri": "https://localhost:8080/"
        },
        "id": "D6gL6Rnj-m7C",
        "outputId": "40fd0106-b0ec-4f54-b4b7-002af86fb9f7"
      },
      "source": [
        "X = []\n",
        "y = []\n",
        "with open(file_name, 'r') as f:\n",
        "  for line in f:    \n",
        "     X.append(line.split(',')[0].strip()) #name\n",
        "     y.append(line.split(',')[1].strip()) #nationality\n",
        "  # print(X)\n",
        "  print(list(zip(X,y))[1:10])   \n",
        "  print(len(set(y))) # number of unique nationalities \n"
      ],
      "execution_count": null,
      "outputs": [
        {
          "output_type": "stream",
          "text": [
            "[('Albuquerque', 'Portuguese'), ('Almeida', 'Portuguese'), ('Alves', 'Portuguese'), ('Araujo', 'Portuguese'), ('Araullo', 'Portuguese'), ('Barros', 'Portuguese'), ('Basurto', 'Portuguese'), ('Belo', 'Portuguese'), ('Cabral', 'Portuguese')]\n",
            "18\n"
          ],
          "name": "stdout"
        }
      ]
    },
    {
      "cell_type": "code",
      "metadata": {
        "colab": {
          "base_uri": "https://localhost:8080/"
        },
        "id": "xSyMTtrkfRp_",
        "outputId": "4d7d2005-a8bf-4b64-b51a-b74d66c60d97"
      },
      "source": [
        "print(string.ascii_letters)"
      ],
      "execution_count": null,
      "outputs": [
        {
          "output_type": "stream",
          "text": [
            "abcdefghijklmnopqrstuvwxyzABCDEFGHIJKLMNOPQRSTUVWXYZ\n"
          ],
          "name": "stdout"
        }
      ]
    },
    {
      "cell_type": "code",
      "metadata": {
        "id": "_xhEz2ZJfHJ6"
      },
      "source": [
        "for name in X:\n",
        "  for char in name:\n",
        "    if char not in string.ascii_letters: # special characters in a name\n",
        "     print(char)"
      ],
      "execution_count": null,
      "outputs": []
    },
    {
      "cell_type": "code",
      "metadata": {
        "colab": {
          "base_uri": "https://localhost:8080/"
        },
        "id": "N0nhha9YjskF",
        "outputId": "2d93238a-70ff-45fa-f60b-ff27bbf01a24"
      },
      "source": [
        "#max length of a sequence\n",
        "name_seq = string.ascii_letters + \" '\" # including special chars\n",
        "nat_seq = set(y) # unique languages\n",
        "len(nat_seq)\n",
        "print(list(nat_seq))"
      ],
      "execution_count": null,
      "outputs": [
        {
          "output_type": "stream",
          "text": [
            "['Spanish', 'Czech', 'Vietnamese', 'Irish', 'Japanese', 'Polish', 'Korean', 'Portuguese', 'Scottish', 'Italian', 'Chinese', 'Russian', 'Greek', 'German', 'Arabic', 'Dutch', 'French', 'English']\n"
          ],
          "name": "stdout"
        }
      ]
    },
    {
      "cell_type": "markdown",
      "metadata": {
        "id": "Z1DYzj44lrfb"
      },
      "source": [
        "###Encoding names and nationalities\n",
        "\n",
        " Convert each character in a name to a vector using one hot encoding representation. Each character is a vector with all zeros except the index of the character.\n",
        "\n",
        "  Since RNN model accepts the character in a sequence the input needs to be encoded."
      ]
    },
    {
      "cell_type": "code",
      "metadata": {
        "id": "jWHqb0a7qFCP"
      },
      "source": [
        "def name_encoded(name):\n",
        "  name_ohe=torch.zeros(len(name),1, len(name_seq))\n",
        " # print(rep)\n",
        "  for index, letter in enumerate(name):\n",
        "    # print(letter)\n",
        "    pos = name_seq.find(letter) # every other position except for this will be zero. - one hot encoding\n",
        "    name_ohe[index][0][pos] = 1       \n",
        "  return name_ohe"
      ],
      "execution_count": null,
      "outputs": []
    },
    {
      "cell_type": "code",
      "metadata": {
        "colab": {
          "base_uri": "https://localhost:8080/"
        },
        "id": "yDwaNiK7lqfp",
        "outputId": "6cfd733d-1fcd-4b9f-baa1-1c3691ff7811"
      },
      "source": [
        "name_encoded('Naomhan')"
      ],
      "execution_count": null,
      "outputs": [
        {
          "output_type": "execute_result",
          "data": {
            "text/plain": [
              "tensor([[[0., 0., 0., 0., 0., 0., 0., 0., 0., 0., 0., 0., 0., 0., 0., 0., 0.,\n",
              "          0., 0., 0., 0., 0., 0., 0., 0., 0., 0., 0., 0., 0., 0., 0., 0., 0.,\n",
              "          0., 0., 0., 0., 0., 1., 0., 0., 0., 0., 0., 0., 0., 0., 0., 0., 0.,\n",
              "          0., 0., 0.]],\n",
              "\n",
              "        [[1., 0., 0., 0., 0., 0., 0., 0., 0., 0., 0., 0., 0., 0., 0., 0., 0.,\n",
              "          0., 0., 0., 0., 0., 0., 0., 0., 0., 0., 0., 0., 0., 0., 0., 0., 0.,\n",
              "          0., 0., 0., 0., 0., 0., 0., 0., 0., 0., 0., 0., 0., 0., 0., 0., 0.,\n",
              "          0., 0., 0.]],\n",
              "\n",
              "        [[0., 0., 0., 0., 0., 0., 0., 0., 0., 0., 0., 0., 0., 0., 1., 0., 0.,\n",
              "          0., 0., 0., 0., 0., 0., 0., 0., 0., 0., 0., 0., 0., 0., 0., 0., 0.,\n",
              "          0., 0., 0., 0., 0., 0., 0., 0., 0., 0., 0., 0., 0., 0., 0., 0., 0.,\n",
              "          0., 0., 0.]],\n",
              "\n",
              "        [[0., 0., 0., 0., 0., 0., 0., 0., 0., 0., 0., 0., 1., 0., 0., 0., 0.,\n",
              "          0., 0., 0., 0., 0., 0., 0., 0., 0., 0., 0., 0., 0., 0., 0., 0., 0.,\n",
              "          0., 0., 0., 0., 0., 0., 0., 0., 0., 0., 0., 0., 0., 0., 0., 0., 0.,\n",
              "          0., 0., 0.]],\n",
              "\n",
              "        [[0., 0., 0., 0., 0., 0., 0., 1., 0., 0., 0., 0., 0., 0., 0., 0., 0.,\n",
              "          0., 0., 0., 0., 0., 0., 0., 0., 0., 0., 0., 0., 0., 0., 0., 0., 0.,\n",
              "          0., 0., 0., 0., 0., 0., 0., 0., 0., 0., 0., 0., 0., 0., 0., 0., 0.,\n",
              "          0., 0., 0.]],\n",
              "\n",
              "        [[1., 0., 0., 0., 0., 0., 0., 0., 0., 0., 0., 0., 0., 0., 0., 0., 0.,\n",
              "          0., 0., 0., 0., 0., 0., 0., 0., 0., 0., 0., 0., 0., 0., 0., 0., 0.,\n",
              "          0., 0., 0., 0., 0., 0., 0., 0., 0., 0., 0., 0., 0., 0., 0., 0., 0.,\n",
              "          0., 0., 0.]],\n",
              "\n",
              "        [[0., 0., 0., 0., 0., 0., 0., 0., 0., 0., 0., 0., 0., 1., 0., 0., 0.,\n",
              "          0., 0., 0., 0., 0., 0., 0., 0., 0., 0., 0., 0., 0., 0., 0., 0., 0.,\n",
              "          0., 0., 0., 0., 0., 0., 0., 0., 0., 0., 0., 0., 0., 0., 0., 0., 0.,\n",
              "          0., 0., 0.]]])"
            ]
          },
          "metadata": {
            "tags": []
          },
          "execution_count": 98
        }
      ]
    },
    {
      "cell_type": "code",
      "metadata": {
        "id": "zxK-6rzOppfj"
      },
      "source": [
        "def nat_encoded(nat):\n",
        "   return torch.tensor([list(set(y)).index(nat)], dtype=torch.long)"
      ],
      "execution_count": null,
      "outputs": []
    },
    {
      "cell_type": "code",
      "metadata": {
        "colab": {
          "base_uri": "https://localhost:8080/"
        },
        "id": "T70Z925m95Kq",
        "outputId": "cc190ddc-d7d3-4db2-ff89-9737216c3348"
      },
      "source": [
        "nat_encoded('Irish')"
      ],
      "execution_count": null,
      "outputs": [
        {
          "output_type": "execute_result",
          "data": {
            "text/plain": [
              "tensor([3])"
            ]
          },
          "metadata": {
            "tags": []
          },
          "execution_count": 100
        }
      ]
    },
    {
      "cell_type": "markdown",
      "metadata": {
        "id": "qeO6DG3SZDwD"
      },
      "source": [
        "###Splitting into train and test sets."
      ]
    },
    {
      "cell_type": "code",
      "metadata": {
        "id": "o4MUhosOXy7Z"
      },
      "source": [
        "X_train, X_test, y_train, y_test = train_test_split(X, y, test_size=0.2, random_state=0, stratify=y)"
      ],
      "execution_count": null,
      "outputs": []
    },
    {
      "cell_type": "code",
      "metadata": {
        "colab": {
          "base_uri": "https://localhost:8080/"
        },
        "id": "JVrR2Ty0dQYz",
        "outputId": "e706da4e-b3eb-454b-c4ad-dae16535d095"
      },
      "source": [
        "print(len(X_train), len(X_test))"
      ],
      "execution_count": null,
      "outputs": [
        {
          "output_type": "stream",
          "text": [
            "16040 4010\n"
          ],
          "name": "stdout"
        }
      ]
    },
    {
      "cell_type": "code",
      "metadata": {
        "id": "YhXclymKhdSK"
      },
      "source": [
        "class RNN_net(nn.Module):\n",
        "  def __init__(self,input_size, hidden_size, output_size):\n",
        "    super(RNN_net,self).__init__()\n",
        "    self.hidden_size = hidden_size   \n",
        "    self.i2h = nn.Linear(input_size + hidden_size, hidden_size)\n",
        "    self.i2o = nn.Linear(input_size + hidden_size, output_size)\n",
        "    self.softmax = nn.LogSoftmax(dim=1)\n",
        "  \n",
        "  def forward(self, input_, hidden):\n",
        "    combined = torch.cat((input_,hidden),1)    \n",
        "    hidden = self.i2h(combined)\n",
        "    output = self.i2o(combined)\n",
        "    output = self.softmax(output)\n",
        "    return output, hidden\n",
        "\n",
        "  def init_hidden(self):\n",
        "    return torch.zeros(1, self.hidden_size)"
      ],
      "execution_count": null,
      "outputs": []
    },
    {
      "cell_type": "code",
      "metadata": {
        "id": "BAGEgR0kh5Dt"
      },
      "source": [
        "n_hidden = 128\n",
        "net = RNN_net(len(name_seq), n_hidden, len(nat_seq)) #network instantiated"
      ],
      "execution_count": null,
      "outputs": []
    },
    {
      "cell_type": "code",
      "metadata": {
        "id": "Yd1iu6iA2sh3"
      },
      "source": [
        "def predict(net,name):\n",
        "  net.eval()\n",
        "  name_ohe = name_encoded(name) #one hot representation of name\n",
        "\n",
        "  hidden = net.init_hidden()\n",
        "  # print(name_ohe.size(),'size of name_ohe') # [7, 1, 54]\n",
        "\n",
        "  for i in range(name_ohe.size()[0]): # for each character represented as a vector, we invoke the model\n",
        "    y_pred, hidden = net(name_ohe[i], hidden) # output gets overridden at every layer, hidden layer of previous is passed to the next layer\n",
        "  return y_pred"
      ],
      "execution_count": null,
      "outputs": []
    },
    {
      "cell_type": "code",
      "metadata": {
        "colab": {
          "base_uri": "https://localhost:8080/"
        },
        "id": "VxYBwY543fGc",
        "outputId": "3dd2846f-1d83-4b42-f3e3-aa969a1f71d0"
      },
      "source": [
        "y_pred = predict(net, 'Naomhan') # 7 characters\n",
        "index = torch.argmax(y_pred)\n",
        "print(list(nat_seq)[index],'Predicted Nationality')"
      ],
      "execution_count": null,
      "outputs": [
        {
          "output_type": "stream",
          "text": [
            "Spanish Predicted Nationality\n"
          ],
          "name": "stdout"
        }
      ]
    },
    {
      "cell_type": "code",
      "metadata": {
        "id": "RoXlEWtjD__7"
      },
      "source": [
        "def dataloader(npoints, X_, y_):\n",
        "    to_ret = []\n",
        "    for i in range(npoints):\n",
        "        index_ = np.random.randint(len(X_))\n",
        "        name, lang = X_[index_], y_[index_]\n",
        "        to_ret.append((name, lang, name_encoded(name), nat_encoded(lang)))\n",
        "    return to_ret"
      ],
      "execution_count": null,
      "outputs": []
    },
    {
      "cell_type": "markdown",
      "metadata": {
        "id": "I4JX0TllUFEo"
      },
      "source": [
        "## Training one batch"
      ]
    },
    {
      "cell_type": "code",
      "metadata": {
        "id": "743YSEJ1AGHU"
      },
      "source": [
        "def train(net, opt, criterion, n_points):\n",
        "    \n",
        "    opt.zero_grad()\n",
        "    total_loss = 0\n",
        "    \n",
        "    data_ = dataloader(n_points, X_train, y_train)\n",
        "    \n",
        "    for _, _, name, nat in data_:\n",
        "\n",
        "        hidden = net.init_hidden()\n",
        "\n",
        "        for i in range(name.size()[0]):\n",
        "            output, hidden = net(name[i], hidden)\n",
        "            \n",
        "        loss = criterion(output, nat)\n",
        "        loss.backward(retain_graph=True)\n",
        "        \n",
        "        total_loss += loss\n",
        "        \n",
        "    opt.step()       # updates the weights and biases\n",
        "            \n",
        "    return total_loss/n_points"
      ],
      "execution_count": null,
      "outputs": []
    },
    {
      "cell_type": "markdown",
      "metadata": {
        "id": "1PhlnthIUTqG"
      },
      "source": [
        "### Train setup for n_batches"
      ]
    },
    {
      "cell_type": "code",
      "metadata": {
        "id": "GIN9GNRU6WGW"
      },
      "source": [
        "def train_setup(net, lr = 0.01, n_batches = 100, batch_size = 10, momentum = 0.9, display_freq=5): #n_batches = iterate 100 times\n",
        "    \n",
        "    criterion = nn.NLLLoss()  \n",
        "    opt = optim.SGD(net.parameters(), lr=lr, momentum=momentum)\n",
        "    \n",
        "    loss_arr = np.zeros(n_batches + 1)\n",
        "    \n",
        "    for i in range(n_batches):\n",
        "        loss_arr[i+1] = (loss_arr[i]*i + train(net, opt, criterion, batch_size))/(i + 1) \n",
        "        \n",
        "        # loss for each iteration, average to smoothen the curve\n",
        "        # loss_arr[i]*i - previous loss *i \n",
        "        # train(net, opt, criterion, batch_size) - gives current loss\n",
        "        \n",
        "        if i%display_freq == display_freq-1:\n",
        "            clear_output(wait=True)\n",
        "            \n",
        "            print('Iteration', i, 'Loss', loss_arr[i])\n",
        "            plt.figure()\n",
        "            plt.plot(loss_arr[1:i], '-*')\n",
        "            plt.xlabel('Iteration')\n",
        "            plt.ylabel('Loss')\n",
        "            plt.show()\n",
        "            print('\\n\\n')"
      ],
      "execution_count": null,
      "outputs": []
    },
    {
      "cell_type": "code",
      "metadata": {
        "colab": {
          "base_uri": "https://localhost:8080/",
          "height": 349
        },
        "id": "nyDaIZUD6WnA",
        "outputId": "c23480ea-be71-408e-8849-02618b3f4c7c"
      },
      "source": [
        "n_hidden = 128\n",
        "net = RNN_net(len(name_seq), n_hidden, len(nat_seq))\n",
        "train_setup(net, lr=0.0005, n_batches=100, batch_size = 256)"
      ],
      "execution_count": null,
      "outputs": [
        {
          "output_type": "stream",
          "text": [
            "Iteration 99 Loss 1.4565999507904053\n"
          ],
          "name": "stdout"
        },
        {
          "output_type": "display_data",
          "data": {
            "image/png": "[encoded data removed]",
            "text/plain": [
              "<Figure size 432x288 with 1 Axes>"
            ]
          },
          "metadata": {
            "tags": [],
            "needs_background": "light"
          }
        },
        {
          "output_type": "stream",
          "text": [
            "\n",
            "\n",
            "\n"
          ],
          "name": "stdout"
        }
      ]
    }
  ]
}