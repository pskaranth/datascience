{
  "nbformat": 4,
  "nbformat_minor": 0,
  "metadata": {
    "colab": {
      "name": "Seeds_generative.ipynb",
      "provenance": [],
      "collapsed_sections": [],
      "toc_visible": true,
      "authorship_tag": "ABX9TyOJM6M1VdSQMv1qsgmPKr+B",
      "include_colab_link": true
    },
    "kernelspec": {
      "name": "python3",
      "display_name": "Python 3"
    },
    "widgets": {
      "application/vnd.jupyter.widget-state+json": {
        "7bc43a32920049ad865d2765c09d5f63": {
          "model_module": "@jupyter-widgets/controls",
          "model_name": "VBoxModel",
          "state": {
            "_view_name": "VBoxView",
            "_dom_classes": [
              "widget-interact"
            ],
            "_model_name": "VBoxModel",
            "_view_module": "@jupyter-widgets/controls",
            "_model_module_version": "1.5.0",
            "_view_count": null,
            "_view_module_version": "1.5.0",
            "box_style": "",
            "layout": "IPY_MODEL_46d68faf7f214dcead681b67223605e8",
            "_model_module": "@jupyter-widgets/controls",
            "children": [
              "IPY_MODEL_eb70755ac5884eeba4fd182a38a3ce64",
              "IPY_MODEL_8a6a0baede074f60b2a0e9c8d75294d3",
              "IPY_MODEL_bcc07347978445518638632d6edf8e69"
            ]
          }
        },
        "46d68faf7f214dcead681b67223605e8": {
          "model_module": "@jupyter-widgets/base",
          "model_name": "LayoutModel",
          "state": {
            "_view_name": "LayoutView",
            "grid_template_rows": null,
            "right": null,
            "justify_content": null,
            "_view_module": "@jupyter-widgets/base",
            "overflow": null,
            "_model_module_version": "1.2.0",
            "_view_count": null,
            "flex_flow": null,
            "width": null,
            "min_width": null,
            "border": null,
            "align_items": null,
            "bottom": null,
            "_model_module": "@jupyter-widgets/base",
            "top": null,
            "grid_column": null,
            "overflow_y": null,
            "overflow_x": null,
            "grid_auto_flow": null,
            "grid_area": null,
            "grid_template_columns": null,
            "flex": null,
            "_model_name": "LayoutModel",
            "justify_items": null,
            "grid_row": null,
            "max_height": null,
            "align_content": null,
            "visibility": null,
            "align_self": null,
            "height": null,
            "min_height": null,
            "padding": null,
            "grid_auto_rows": null,
            "grid_gap": null,
            "max_width": null,
            "order": null,
            "_view_module_version": "1.2.0",
            "grid_template_areas": null,
            "object_position": null,
            "object_fit": null,
            "grid_auto_columns": null,
            "margin": null,
            "display": null,
            "left": null
          }
        },
        "eb70755ac5884eeba4fd182a38a3ce64": {
          "model_module": "@jupyter-widgets/controls",
          "model_name": "IntSliderModel",
          "state": {
            "_view_name": "IntSliderView",
            "style": "IPY_MODEL_6c4fdfe9760340959dded04d592a2493",
            "_dom_classes": [],
            "description": "feature",
            "step": 1,
            "_model_name": "IntSliderModel",
            "orientation": "horizontal",
            "max": 6,
            "_view_module": "@jupyter-widgets/controls",
            "_model_module_version": "1.5.0",
            "value": 0,
            "_view_count": null,
            "disabled": false,
            "_view_module_version": "1.5.0",
            "min": 0,
            "continuous_update": true,
            "readout_format": "d",
            "description_tooltip": null,
            "readout": true,
            "_model_module": "@jupyter-widgets/controls",
            "layout": "IPY_MODEL_9e0148b59b08469b9af8bade716d5074"
          }
        },
        "8a6a0baede074f60b2a0e9c8d75294d3": {
          "model_module": "@jupyter-widgets/controls",
          "model_name": "ButtonModel",
          "state": {
            "_view_name": "ButtonView",
            "style": "IPY_MODEL_0bb107591418422fbdbc1aad0ef4c7cd",
            "_dom_classes": [],
            "description": "Run Interact",
            "_model_name": "ButtonModel",
            "button_style": "",
            "_view_module": "@jupyter-widgets/controls",
            "_model_module_version": "1.5.0",
            "tooltip": "",
            "_view_count": null,
            "disabled": false,
            "_view_module_version": "1.5.0",
            "layout": "IPY_MODEL_33ff5e4dcbdc4ac48aafd06eba46485b",
            "_model_module": "@jupyter-widgets/controls",
            "icon": ""
          }
        },
        "bcc07347978445518638632d6edf8e69": {
          "model_module": "@jupyter-widgets/output",
          "model_name": "OutputModel",
          "state": {
            "_view_name": "OutputView",
            "msg_id": "",
            "_dom_classes": [],
            "_model_name": "OutputModel",
            "outputs": [],
            "_view_module": "@jupyter-widgets/output",
            "_model_module_version": "1.0.0",
            "_view_count": null,
            "_view_module_version": "1.0.0",
            "layout": "IPY_MODEL_99ab3dab46254718821b70c375acd7bb",
            "_model_module": "@jupyter-widgets/output"
          }
        },
        "6c4fdfe9760340959dded04d592a2493": {
          "model_module": "@jupyter-widgets/controls",
          "model_name": "SliderStyleModel",
          "state": {
            "_view_name": "StyleView",
            "handle_color": null,
            "_model_name": "SliderStyleModel",
            "description_width": "",
            "_view_module": "@jupyter-widgets/base",
            "_model_module_version": "1.5.0",
            "_view_count": null,
            "_view_module_version": "1.2.0",
            "_model_module": "@jupyter-widgets/controls"
          }
        },
        "9e0148b59b08469b9af8bade716d5074": {
          "model_module": "@jupyter-widgets/base",
          "model_name": "LayoutModel",
          "state": {
            "_view_name": "LayoutView",
            "grid_template_rows": null,
            "right": null,
            "justify_content": null,
            "_view_module": "@jupyter-widgets/base",
            "overflow": null,
            "_model_module_version": "1.2.0",
            "_view_count": null,
            "flex_flow": null,
            "width": null,
            "min_width": null,
            "border": null,
            "align_items": null,
            "bottom": null,
            "_model_module": "@jupyter-widgets/base",
            "top": null,
            "grid_column": null,
            "overflow_y": null,
            "overflow_x": null,
            "grid_auto_flow": null,
            "grid_area": null,
            "grid_template_columns": null,
            "flex": null,
            "_model_name": "LayoutModel",
            "justify_items": null,
            "grid_row": null,
            "max_height": null,
            "align_content": null,
            "visibility": null,
            "align_self": null,
            "height": null,
            "min_height": null,
            "padding": null,
            "grid_auto_rows": null,
            "grid_gap": null,
            "max_width": null,
            "order": null,
            "_view_module_version": "1.2.0",
            "grid_template_areas": null,
            "object_position": null,
            "object_fit": null,
            "grid_auto_columns": null,
            "margin": null,
            "display": null,
            "left": null
          }
        },
        "0bb107591418422fbdbc1aad0ef4c7cd": {
          "model_module": "@jupyter-widgets/controls",
          "model_name": "ButtonStyleModel",
          "state": {
            "_view_name": "StyleView",
            "_model_name": "ButtonStyleModel",
            "_view_module": "@jupyter-widgets/base",
            "_model_module_version": "1.5.0",
            "_view_count": null,
            "button_color": null,
            "font_weight": "",
            "_view_module_version": "1.2.0",
            "_model_module": "@jupyter-widgets/controls"
          }
        },
        "33ff5e4dcbdc4ac48aafd06eba46485b": {
          "model_module": "@jupyter-widgets/base",
          "model_name": "LayoutModel",
          "state": {
            "_view_name": "LayoutView",
            "grid_template_rows": null,
            "right": null,
            "justify_content": null,
            "_view_module": "@jupyter-widgets/base",
            "overflow": null,
            "_model_module_version": "1.2.0",
            "_view_count": null,
            "flex_flow": null,
            "width": null,
            "min_width": null,
            "border": null,
            "align_items": null,
            "bottom": null,
            "_model_module": "@jupyter-widgets/base",
            "top": null,
            "grid_column": null,
            "overflow_y": null,
            "overflow_x": null,
            "grid_auto_flow": null,
            "grid_area": null,
            "grid_template_columns": null,
            "flex": null,
            "_model_name": "LayoutModel",
            "justify_items": null,
            "grid_row": null,
            "max_height": null,
            "align_content": null,
            "visibility": null,
            "align_self": null,
            "height": null,
            "min_height": null,
            "padding": null,
            "grid_auto_rows": null,
            "grid_gap": null,
            "max_width": null,
            "order": null,
            "_view_module_version": "1.2.0",
            "grid_template_areas": null,
            "object_position": null,
            "object_fit": null,
            "grid_auto_columns": null,
            "margin": null,
            "display": null,
            "left": null
          }
        },
        "99ab3dab46254718821b70c375acd7bb": {
          "model_module": "@jupyter-widgets/base",
          "model_name": "LayoutModel",
          "state": {
            "_view_name": "LayoutView",
            "grid_template_rows": null,
            "right": null,
            "justify_content": null,
            "_view_module": "@jupyter-widgets/base",
            "overflow": null,
            "_model_module_version": "1.2.0",
            "_view_count": null,
            "flex_flow": null,
            "width": null,
            "min_width": null,
            "border": null,
            "align_items": null,
            "bottom": null,
            "_model_module": "@jupyter-widgets/base",
            "top": null,
            "grid_column": null,
            "overflow_y": null,
            "overflow_x": null,
            "grid_auto_flow": null,
            "grid_area": null,
            "grid_template_columns": null,
            "flex": null,
            "_model_name": "LayoutModel",
            "justify_items": null,
            "grid_row": null,
            "max_height": null,
            "align_content": null,
            "visibility": null,
            "align_self": null,
            "height": null,
            "min_height": null,
            "padding": null,
            "grid_auto_rows": null,
            "grid_gap": null,
            "max_width": null,
            "order": null,
            "_view_module_version": "1.2.0",
            "grid_template_areas": null,
            "object_position": null,
            "object_fit": null,
            "grid_auto_columns": null,
            "margin": null,
            "display": null,
            "left": null
          }
        }
      }
    }
  },
  "cells": [
    {
      "cell_type": "markdown",
      "metadata": {
        "id": "view-in-github",
        "colab_type": "text"
      },
      "source": [
        "<a href=\"https://colab.research.google.com/github/pskaranth/thelearningcurve/blob/master/Classification/generative/Seeds_generative.ipynb\" target=\"_parent\"><img src=\"https://colab.research.google.com/assets/colab-badge.svg\" alt=\"Open In Colab\"/></a>"
      ]
    },
    {
      "cell_type": "code",
      "metadata": {
        "id": "f8euW7KZzAMB",
        "outputId": "b7f049c8-d64b-4337-ab61-f859e7ea12b6",
        "colab": {
          "base_uri": "https://localhost:8080/",
          "height": 191
        }
      },
      "source": [
        "!git clone -l -s git://github.com/pskaranth/thelearningcurve.git cloned-repo\n",
        "%cd cloned-repo\n",
        "!ls"
      ],
      "execution_count": 1,
      "outputs": [
        {
          "output_type": "stream",
          "text": [
            "Cloning into 'cloned-repo'...\n",
            "warning: --local is ignored\n",
            "remote: Enumerating objects: 138, done.\u001b[K\n",
            "remote: Counting objects: 100% (138/138), done.\u001b[K\n",
            "remote: Compressing objects: 100% (121/121), done.\u001b[K\n",
            "remote: Total 138 (delta 44), reused 0 (delta 0), pack-reused 0\u001b[K\n",
            "Receiving objects: 100% (138/138), 2.05 MiB | 2.50 MiB/s, done.\n",
            "Resolving deltas: 100% (44/44), done.\n",
            "/content/cloned-repo\n",
            "Classification\tREADME.md\n"
          ],
          "name": "stdout"
        }
      ]
    },
    {
      "cell_type": "code",
      "metadata": {
        "id": "J4BMw5sMz7Rr",
        "outputId": "23e50202-8d4b-496c-fd98-91f27f72f980",
        "colab": {
          "base_uri": "https://localhost:8080/",
          "height": 35
        }
      },
      "source": [
        "!ls"
      ],
      "execution_count": 2,
      "outputs": [
        {
          "output_type": "stream",
          "text": [
            "Classification\tREADME.md\n"
          ],
          "name": "stdout"
        }
      ]
    },
    {
      "cell_type": "code",
      "metadata": {
        "id": "b76Rxju3z9ei"
      },
      "source": [
        "import numpy as np\n",
        "from scipy.stats import norm, multivariate_normal\n",
        "import matplotlib.pyplot as plt\n",
        "import ipywidgets as widgets\n",
        "from IPython.display import display\n",
        "from ipywidgets import interact, interactive, fixed, interact_manual, IntSlider"
      ],
      "execution_count": 3,
      "outputs": []
    },
    {
      "cell_type": "code",
      "metadata": {
        "id": "oodrS5A50d4B"
      },
      "source": [
        "data = np.loadtxt('Classification/generative/seeds_dataset.txt')\n",
        "features = ['area','perimeter','compactness','lengthk','widthk','asymmeterycoeff','lengthkg']\n"
      ],
      "execution_count": null,
      "outputs": []
    },
    {
      "cell_type": "code",
      "metadata": {
        "id": "JSO7yRID8JY_",
        "outputId": "7aba30ce-af96-4d2b-d395-303af475ac4c",
        "colab": {
          "base_uri": "https://localhost:8080/",
          "height": 52
        }
      },
      "source": [
        "print(\"Dataset dimensions: \", np.shape(data))\n",
        "type(data)"
      ],
      "execution_count": null,
      "outputs": [
        {
          "output_type": "stream",
          "text": [
            "Dataset dimensions:  (210, 8)\n"
          ],
          "name": "stdout"
        },
        {
          "output_type": "execute_result",
          "data": {
            "text/plain": [
              "numpy.ndarray"
            ]
          },
          "metadata": {
            "tags": []
          },
          "execution_count": 94
        }
      ]
    },
    {
      "cell_type": "code",
      "metadata": {
        "id": "-pBuL4gl8NX2"
      },
      "source": [
        "np.random.seed(0)\n",
        "perm = np.random.permutation(210)\n",
        "train_x = data[perm[0:190],0:7]\n",
        "train_y = data[perm[0:190],7]\n",
        "test_x = data[perm[190:210], 0:7]\n",
        "test_y = data[perm[190:210],7]\n"
      ],
      "execution_count": null,
      "outputs": []
    },
    {
      "cell_type": "code",
      "metadata": {
        "id": "POgbVN8fAj3_",
        "outputId": "4dbdaf2c-0ddf-44ba-9fea-f4777e8f69fd",
        "colab": {
          "base_uri": "https://localhost:8080/",
          "height": 87
        }
      },
      "source": [
        "print(\"Training dataset dimensions: \", np.shape(train_x))\n",
        "print(\"Training label dimensions: \", np.shape(train_y))\n",
        "print(train_x[2])\n",
        "print(train_y[2])"
      ],
      "execution_count": null,
      "outputs": [
        {
          "output_type": "stream",
          "text": [
            "Training dataset dimensions:  (190, 7)\n",
            "Training label dimensions:  (190,)\n",
            "[13.94   14.17    0.8728  5.585   3.15    2.124   5.012 ]\n",
            "1.0\n"
          ],
          "name": "stdout"
        }
      ]
    },
    {
      "cell_type": "code",
      "metadata": {
        "id": "qYYj8qQTetw5"
      },
      "source": [
        "def fit_univariate_model(x,y,feature):\n",
        "    k = 3 # number of classes\n",
        "    mu = np.zeros(4) # list of means\n",
        "    var = np.zeros(4) # list of variances\n",
        "    p = np.zeros(4) # list of class probabilities\n",
        "    \n",
        "    for label in range(1,4):\n",
        "        indices = (y==label)\n",
        "        # print(x[indices,feature])\n",
        "        mu[label] = np.mean(x[indices,feature])\n",
        "        var[label] = np.var(x[indices,feature])      \n",
        "        p[label] = float(sum(indices))/float(len(y))\n",
        "    return mu, var, p"
      ],
      "execution_count": null,
      "outputs": []
    },
    {
      "cell_type": "code",
      "metadata": {
        "id": "cPkX2IyzCQjq",
        "outputId": "bde6bae4-4d8f-4cfa-a63e-6d8c4f45a7f4",
        "colab": {
          "base_uri": "https://localhost:8080/",
          "height": 52
        }
      },
      "source": [
        "# consider just one feature - compactness\n",
        "feature = 4\n",
        "mu, var, p = fit_univariate_model(train_x, train_y, feature)\n",
        "print(p[1:])\n",
        "print(mu)"
      ],
      "execution_count": null,
      "outputs": [
        {
          "output_type": "stream",
          "text": [
            "[0.33157895 0.34210526 0.32631579]\n",
            "[0.         3.23388889 3.67167692 2.84474194]\n"
          ],
          "name": "stdout"
        }
      ]
    },
    {
      "cell_type": "markdown",
      "metadata": {
        "id": "AaUgPgr4yIWZ"
      },
      "source": [
        ""
      ]
    },
    {
      "cell_type": "markdown",
      "metadata": {
        "id": "LrJq0ukAjEx4"
      },
      "source": [
        "# Univariate\n",
        "Predicting the output based on just one feature."
      ]
    },
    {
      "cell_type": "code",
      "metadata": {
        "id": "mnmu5cEFgQtu",
        "outputId": "191c0cd2-e066-4465-e025-e9ee910ddd8a",
        "colab": {
          "base_uri": "https://localhost:8080/",
          "height": 81,
          "referenced_widgets": [
            "7bc43a32920049ad865d2765c09d5f63",
            "46d68faf7f214dcead681b67223605e8",
            "eb70755ac5884eeba4fd182a38a3ce64",
            "8a6a0baede074f60b2a0e9c8d75294d3",
            "bcc07347978445518638632d6edf8e69",
            "6c4fdfe9760340959dded04d592a2493",
            "9e0148b59b08469b9af8bade716d5074",
            "0bb107591418422fbdbc1aad0ef4c7cd",
            "33ff5e4dcbdc4ac48aafd06eba46485b",
            "99ab3dab46254718821b70c375acd7bb"
          ]
        }
      },
      "source": [
        "@interact_manual( feature=IntSlider(0,0,6) )\n",
        "def show_densities(feature):\n",
        "    mu, var, pi = fit_univariate_model(train_x, train_y, feature)\n",
        "    colors = ['r', 'b', 'g']\n",
        "    for label in range(1,4):\n",
        "        m = mu[label]\n",
        "        s = np.sqrt(var[label])\n",
        "        x_axis = np.linspace(m - 4*s, m+4*s, 1000)\n",
        "        plt.plot(x_axis, norm.pdf(x_axis,m,s), colors[label-1], label=\"class \" + str(label))\n",
        "    plt.xlabel(features[feature], fontsize=14, color='red')\n",
        "    plt.ylabel('Density', fontsize=14, color='red')\n",
        "    plt.legend()\n",
        "    plt.show()"
      ],
      "execution_count": null,
      "outputs": [
        {
          "output_type": "display_data",
          "data": {
            "application/vnd.jupyter.widget-view+json": {
              "model_id": "7bc43a32920049ad865d2765c09d5f63",
              "version_minor": 0,
              "version_major": 2
            },
            "text/plain": [
              "interactive(children=(IntSlider(value=0, description='feature', max=6), Button(description='Run Interact', sty…"
            ]
          },
          "metadata": {
            "tags": []
          }
        }
      ]
    },
    {
      "cell_type": "code",
      "metadata": {
        "id": "aWwzfhWLx0iE"
      },
      "source": [
        "def pred_model(feature):\n",
        "   mu, var, p = fit_univariate_model(train_x, train_y, feature)\n",
        "   n = len(test_y)\n",
        "   print('num of tests : ',n)\n",
        "   score = np.zeros((n,4))\n",
        "   for i in range(n): #run for each entry in test_y, get the score of each labels to find the argmax of the score.\n",
        "      for j in range(1,4):\n",
        "        score[i,j] = np.log(p[j]) + norm.logpdf(test_x[i,feature], mu[j], np.sqrt(var[j])) # taking log for the joint distribution(P(x). distribution of test_x )\n",
        "  #  print(score[1:,1:4])\n",
        "   print(score[:,1:4])\n",
        "   prediction = np.argmax(score[:,1:4], axis=1) + 1\n",
        "   print('prediction : ',prediction)\n",
        "   print('errors : ',np.sum(prediction != test_y))\n"
      ],
      "execution_count": null,
      "outputs": []
    },
    {
      "cell_type": "code",
      "metadata": {
        "id": "cbtN2YVg3Kk5",
        "outputId": "cb6adc89-b8bc-440a-897a-11c4e7d7b89d",
        "colab": {
          "base_uri": "https://localhost:8080/",
          "height": 416
        }
      },
      "source": [
        "pred_model(6) # feature =2"
      ],
      "execution_count": null,
      "outputs": [
        {
          "output_type": "stream",
          "text": [
            "num of tests :  20\n",
            "[[ -0.68787935  -7.23295544  -0.22500219]\n",
            " [ -0.78334591  -5.93861696  -0.28670531]\n",
            " [ -1.09678825 -11.56370078  -1.8596426 ]\n",
            " [ -0.71693415  -8.60391833  -0.48870042]\n",
            " [ -0.68724477  -7.26202154  -0.22743169]\n",
            " [ -0.8561807   -5.46769178  -0.40546697]\n",
            " [ -1.46100027  -3.55473297  -1.66887636]\n",
            " [-10.51958294  -1.01920397 -24.21550473]\n",
            " [ -7.83951772  -0.63345286 -17.38724288]\n",
            " [-15.55492207  -2.55159548 -37.15660456]\n",
            " [ -2.21533603  -2.41532447  -3.41758416]\n",
            " [ -0.84953322  -5.50506369  -0.39384954]\n",
            " [ -2.25564697  -2.37011831  -3.51320967]\n",
            " [-10.4857785   -1.01200413 -24.12905396]\n",
            " [ -0.85703419 -10.05165161  -1.043755  ]\n",
            " [ -0.71371242  -6.65112155  -0.20956069]\n",
            " [ -0.71371242  -6.65112155  -0.20956069]\n",
            " [ -9.75680369  -0.86970458 -22.26658747]\n",
            " [ -0.76707966  -6.06963197  -0.26376847]\n",
            " [ -0.71791893  -8.61987498  -0.49340411]]\n",
            "prediction :  [3 3 1 3 3 3 1 2 2 2 1 3 1 2 1 3 3 2 3 3]\n",
            "errors :  8\n"
          ],
          "name": "stdout"
        }
      ]
    },
    {
      "cell_type": "markdown",
      "metadata": {
        "id": "-HOUfva0jSym"
      },
      "source": [
        "# Bivariate\n",
        "Predict the output based on two features. "
      ]
    },
    {
      "cell_type": "code",
      "metadata": {
        "id": "JjHh4pYNsgv4"
      },
      "source": [
        "def fit_bivariate_model(x,y,twofeatures):\n",
        "    k = 3 # number of classes\n",
        "    mu = np.zeros((4,2)) # list of means\n",
        "    var = np.zeros((4,2,2)) # list of variances\n",
        "    p = np.zeros(4) # list of class probabilities\n",
        "    \n",
        "    for label in range(1,4):\n",
        "        indices = (y==label)\n",
        "        # print(x[indices,feature])\n",
        "        # np.mean(x[:,features], axis=0)\n",
        "        # print(x[indices,:][:,twofeatures])\n",
        "        mu[label,:] = np.mean(x[indices,:][:,twofeatures],axis =0)\n",
        "        var[label] = np.cov(x[indices,:][:,twofeatures], rowvar=0, bias=1)      \n",
        "        p[label] = float(sum(indices))/float(len(y))\n",
        "    return mu, var, p"
      ],
      "execution_count": null,
      "outputs": []
    },
    {
      "cell_type": "code",
      "metadata": {
        "id": "aHvcZMVZ0rYY",
        "outputId": "b4e35443-f07e-4c6a-f1ca-5457992849ce",
        "colab": {
          "base_uri": "https://localhost:8080/",
          "height": 260
        }
      },
      "source": [
        "twofeatures=[4,6]\n",
        "fit_bivariate_model(train_x, train_y, twofeatures)"
      ],
      "execution_count": null,
      "outputs": [
        {
          "output_type": "execute_result",
          "data": {
            "text/plain": [
              "(array([[0.        , 0.        ],\n",
              "        [3.23388889, 5.06819048],\n",
              "        [3.67167692, 6.00367692],\n",
              "        [2.84474194, 5.12116129]]), array([[[ 0.        ,  0.        ],\n",
              "         [ 0.        ,  0.        ]],\n",
              " \n",
              "        [[ 0.03157819,  0.01909507],\n",
              "         [ 0.01909507,  0.06873711]],\n",
              " \n",
              "        [[ 0.03406428,  0.01860505],\n",
              "         [ 0.01860505,  0.0628689 ]],\n",
              " \n",
              "        [[ 0.0181179 , -0.00183522],\n",
              "         [-0.00183522,  0.02565249]]]), array([0.        , 0.33157895, 0.34210526, 0.32631579]))"
            ]
          },
          "metadata": {
            "tags": []
          },
          "execution_count": 73
        }
      ]
    },
    {
      "cell_type": "code",
      "metadata": {
        "id": "HKPEOUNzvAlO"
      },
      "source": [
        "def pred_model_2(twofeatures):\n",
        "   mu, covar, p = fit_bivariate_model(train_x, train_y, twofeatures)\n",
        "   n = len(test_y)\n",
        "   print('num of tests : ',n)\n",
        "   score = np.zeros((n,4))\n",
        "   for i in range(n): #run for each entry in test_y, get the score of each labels to find the argmax of the score.\n",
        "      for j in range(1,4):\n",
        "        # print(test_x[i,twofeatures] ,'mean mu :', mu[j,:],'  variance : ', var[j,:])        \n",
        "          score[i,j] = np.log(p[j]) + multivariate_normal.logpdf(test_x[i,twofeatures], mu[j,:], covar[j,:]) # taking log for the joint distribution(P(x). distribution of test_x )\n",
        "  #  print(score[1:,1:4])\n",
        "  #  print(score[:,1:4])\n",
        "   prediction = np.argmax(score[:,1:4], axis=1) + 1\n",
        "   print('prediction : ',prediction)\n",
        "   print('errors : ',np.sum(prediction != test_y))"
      ],
      "execution_count": null,
      "outputs": []
    },
    {
      "cell_type": "code",
      "metadata": {
        "id": "sAbLvITqyZRB",
        "outputId": "2b749515-0cd7-48ce-aa96-aebc7866e1ad",
        "colab": {
          "base_uri": "https://localhost:8080/",
          "height": 69
        }
      },
      "source": [
        "twofeatures=[4,6]\n",
        "pred_model_2(twofeatures)"
      ],
      "execution_count": null,
      "outputs": [
        {
          "output_type": "stream",
          "text": [
            "num of tests :  20\n",
            "prediction :  [1 3 1 1 3 1 3 2 2 2 1 1 2 2 1 1 3 2 1 3]\n",
            "errors :  4\n"
          ],
          "name": "stdout"
        }
      ]
    },
    {
      "cell_type": "code",
      "metadata": {
        "id": "Wih8wD82BUZv",
        "outputId": "6d7a832f-65fc-4f76-fbaf-ec975617d403",
        "colab": {
          "base_uri": "https://localhost:8080/",
          "height": 243
        }
      },
      "source": [
        "test = np.array([[2,4,5],[2,6,8],[3,4,5],[2,7,9]])\n",
        "print(type(test) , ': type ::' ,np.shape(test))\n",
        "# print(test[:,0])\n",
        "print(test[:,1]) # second column\n",
        "test_2mn = np.mean(test[:,1],axis =0) # mean across second column\n",
        "print(test_2mn)\n",
        "print('---------------')\n",
        "# to get the mean across those columns which have rows starting with 2\n",
        "mf = [1,2]\n",
        "indices = (test[:,0]==2) # indices true for first column of each row == 2\n",
        "print(indices,'indices')\n",
        "print(test[indices,:])\n",
        "print('---------------')\n",
        "print(test[indices,:][:,mf])\n",
        "mean_mf = np.mean(test[indices,:][:,mf],axis =0)\n",
        "print(mean_mf)"
      ],
      "execution_count": null,
      "outputs": [
        {
          "output_type": "stream",
          "text": [
            "<class 'numpy.ndarray'> : type :: (4, 3)\n",
            "[4 6 4 7]\n",
            "5.25\n",
            "---------------\n",
            "[ True  True False  True] indices\n",
            "[[2 4 5]\n",
            " [2 6 8]\n",
            " [2 7 9]]\n",
            "---------------\n",
            "[[4 5]\n",
            " [6 8]\n",
            " [7 9]]\n",
            "[5.66666667 7.33333333]\n"
          ],
          "name": "stdout"
        }
      ]
    },
    {
      "cell_type": "markdown",
      "metadata": {
        "id": "OIgro2dCgiqj"
      },
      "source": [
        ""
      ]
    },
    {
      "cell_type": "markdown",
      "metadata": {
        "id": "wCdYX02CgjOh"
      },
      "source": [
        "# Multivariate\n",
        "Prediction based on more than two features"
      ]
    },
    {
      "cell_type": "code",
      "metadata": {
        "id": "QjI8GduegiGm"
      },
      "source": [
        "def fit_multivariate_model(x,y,multifeatures):\n",
        "    k = 3 # number of classes\n",
        "    mu = np.zeros((4,len(multifeatures))) # list of means\n",
        "    var = np.zeros((4,len(multifeatures),len(multifeatures))) # list of variances\n",
        "    p = np.zeros(4) # list of class probabilities\n",
        "    print(type(x))\n",
        "    \n",
        "    for label in range(1,4):\n",
        "        indices = (y==label) \n",
        "        # print(indices)       \n",
        "        # print(x[indices,:])        \n",
        "        # print(x[indices,:][:,multifeatures])\n",
        "        mu[label,:] = np.mean(x[indices,:][:,multifeatures],axis =0)\n",
        "        var[label] = np.cov(x[indices,:][:,multifeatures], rowvar=0, bias=1)      \n",
        "        p[label] = float(sum(indices))/float(len(y))\n",
        "    return mu, var, p"
      ],
      "execution_count": null,
      "outputs": []
    },
    {
      "cell_type": "code",
      "metadata": {
        "id": "faMxmiqpgeAm"
      },
      "source": [
        "multifeatures = range(0,7)\n",
        "fit_multivariate_model(train_x,train_y,multifeatures)"
      ],
      "execution_count": null,
      "outputs": []
    },
    {
      "cell_type": "code",
      "metadata": {
        "id": "z_RMwJiUiVCg"
      },
      "source": [
        "def pred_model_multi(multifeatures):\n",
        "   mu, covar, p = fit_multivariate_model(train_x, train_y, multifeatures)\n",
        "   n = len(test_y)\n",
        "   print('num of tests : ',n)\n",
        "   score = np.zeros((n,4))\n",
        "   for i in range(n): #run for each entry in test_y, get the score of each labels to find the argmax of the score.\n",
        "      for j in range(1,4):\n",
        "        # print(test_x[i,twofeatures] ,'mean mu :', mu[j,:],'  variance : ', var[j,:])        \n",
        "          score[i,j] = np.log(p[j]) + multivariate_normal.logpdf(test_x[i,multifeatures], mu[j,:], covar[j,:]) # taking log for the joint distribution(P(x). distribution of test_x )\n",
        "  #  print(score[1:,1:4])\n",
        "  #  print(score[:,1:4])\n",
        "   prediction = np.argmax(score[:,1:4], axis=1) + 1\n",
        "   print('prediction : ',prediction)\n",
        "   print('errors : ',np.sum(prediction != test_y))"
      ],
      "execution_count": null,
      "outputs": []
    },
    {
      "cell_type": "code",
      "metadata": {
        "id": "umJiFP26izVS",
        "outputId": "c96fc660-d2b8-41c4-f0ba-10915cd59840",
        "colab": {
          "base_uri": "https://localhost:8080/",
          "height": 69
        }
      },
      "source": [
        "multifeatures = range(0,7)\n",
        "pred_model_multi(multifeatures)"
      ],
      "execution_count": null,
      "outputs": [
        {
          "output_type": "stream",
          "text": [
            "num of tests :  20\n",
            "prediction :  [1 3 1 1 3 1 3 2 2 2 1 1 1 2 3 1 3 2 1 3]\n",
            "errors :  2\n"
          ],
          "name": "stdout"
        }
      ]
    }
  ]
}