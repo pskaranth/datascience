{
  "nbformat": 4,
  "nbformat_minor": 0,
  "metadata": {
    "colab": {
      "name": "Seeds_generative.ipynb",
      "provenance": [],
      "collapsed_sections": [],
      "toc_visible": true,
      "authorship_tag": "ABX9TyNHvmq92ROC6wQhLmpIIHL1",
      "include_colab_link": true
    },
    "kernelspec": {
      "name": "python3",
      "display_name": "Python 3"
    },
    "widgets": {
      "application/vnd.jupyter.widget-state+json": {
        "ae053590b0e24d42a23f0bc51fc5806e": {
          "model_module": "@jupyter-widgets/controls",
          "model_name": "VBoxModel",
          "state": {
            "_view_name": "VBoxView",
            "_dom_classes": [
              "widget-interact"
            ],
            "_model_name": "VBoxModel",
            "_view_module": "@jupyter-widgets/controls",
            "_model_module_version": "1.5.0",
            "_view_count": null,
            "_view_module_version": "1.5.0",
            "box_style": "",
            "layout": "IPY_MODEL_53def2bc80e44bf89f8dcc628e7b0e2a",
            "_model_module": "@jupyter-widgets/controls",
            "children": [
              "IPY_MODEL_2b4687ecd2424e14b3c68a30750fff0e",
              "IPY_MODEL_71959ec4a64244659c4f34f6db8a28b9",
              "IPY_MODEL_b32b48a30a354c72b14e389fe1835e30"
            ]
          }
        },
        "53def2bc80e44bf89f8dcc628e7b0e2a": {
          "model_module": "@jupyter-widgets/base",
          "model_name": "LayoutModel",
          "state": {
            "_view_name": "LayoutView",
            "grid_template_rows": null,
            "right": null,
            "justify_content": null,
            "_view_module": "@jupyter-widgets/base",
            "overflow": null,
            "_model_module_version": "1.2.0",
            "_view_count": null,
            "flex_flow": null,
            "width": null,
            "min_width": null,
            "border": null,
            "align_items": null,
            "bottom": null,
            "_model_module": "@jupyter-widgets/base",
            "top": null,
            "grid_column": null,
            "overflow_y": null,
            "overflow_x": null,
            "grid_auto_flow": null,
            "grid_area": null,
            "grid_template_columns": null,
            "flex": null,
            "_model_name": "LayoutModel",
            "justify_items": null,
            "grid_row": null,
            "max_height": null,
            "align_content": null,
            "visibility": null,
            "align_self": null,
            "height": null,
            "min_height": null,
            "padding": null,
            "grid_auto_rows": null,
            "grid_gap": null,
            "max_width": null,
            "order": null,
            "_view_module_version": "1.2.0",
            "grid_template_areas": null,
            "object_position": null,
            "object_fit": null,
            "grid_auto_columns": null,
            "margin": null,
            "display": null,
            "left": null
          }
        },
        "2b4687ecd2424e14b3c68a30750fff0e": {
          "model_module": "@jupyter-widgets/controls",
          "model_name": "IntSliderModel",
          "state": {
            "_view_name": "IntSliderView",
            "style": "IPY_MODEL_1670c3095b4a475c9adffea8f0cb50c1",
            "_dom_classes": [],
            "description": "feature",
            "step": 1,
            "_model_name": "IntSliderModel",
            "orientation": "horizontal",
            "max": 6,
            "_view_module": "@jupyter-widgets/controls",
            "_model_module_version": "1.5.0",
            "value": 6,
            "_view_count": null,
            "disabled": false,
            "_view_module_version": "1.5.0",
            "min": 0,
            "continuous_update": true,
            "readout_format": "d",
            "description_tooltip": null,
            "readout": true,
            "_model_module": "@jupyter-widgets/controls",
            "layout": "IPY_MODEL_1d1ada9d46344da98e4a513f6b29cdf9"
          }
        },
        "71959ec4a64244659c4f34f6db8a28b9": {
          "model_module": "@jupyter-widgets/controls",
          "model_name": "ButtonModel",
          "state": {
            "_view_name": "ButtonView",
            "style": "IPY_MODEL_6b9548e7725d465f8cada7eb9df23f04",
            "_dom_classes": [],
            "description": "Run Interact",
            "_model_name": "ButtonModel",
            "button_style": "",
            "_view_module": "@jupyter-widgets/controls",
            "_model_module_version": "1.5.0",
            "tooltip": "",
            "_view_count": null,
            "disabled": false,
            "_view_module_version": "1.5.0",
            "layout": "IPY_MODEL_a8de89e15c7746c68adff9fa8dfab66a",
            "_model_module": "@jupyter-widgets/controls",
            "icon": ""
          }
        },
        "b32b48a30a354c72b14e389fe1835e30": {
          "model_module": "@jupyter-widgets/output",
          "model_name": "OutputModel",
          "state": {
            "_view_name": "OutputView",
            "msg_id": "",
            "_dom_classes": [],
            "_model_name": "OutputModel",
            "outputs": [
              {
                "output_type": "display_data",
                "metadata": {
                  "tags": [],
                  "needs_background": "light"
                },
                "image/png": "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\n",
                "text/plain": "<Figure size 432x288 with 1 Axes>"
              }
            ],
            "_view_module": "@jupyter-widgets/output",
            "_model_module_version": "1.0.0",
            "_view_count": null,
            "_view_module_version": "1.0.0",
            "layout": "IPY_MODEL_5e09a5a7afc9485c8f4e2a98c50c8243",
            "_model_module": "@jupyter-widgets/output"
          }
        },
        "1670c3095b4a475c9adffea8f0cb50c1": {
          "model_module": "@jupyter-widgets/controls",
          "model_name": "SliderStyleModel",
          "state": {
            "_view_name": "StyleView",
            "handle_color": null,
            "_model_name": "SliderStyleModel",
            "description_width": "",
            "_view_module": "@jupyter-widgets/base",
            "_model_module_version": "1.5.0",
            "_view_count": null,
            "_view_module_version": "1.2.0",
            "_model_module": "@jupyter-widgets/controls"
          }
        },
        "1d1ada9d46344da98e4a513f6b29cdf9": {
          "model_module": "@jupyter-widgets/base",
          "model_name": "LayoutModel",
          "state": {
            "_view_name": "LayoutView",
            "grid_template_rows": null,
            "right": null,
            "justify_content": null,
            "_view_module": "@jupyter-widgets/base",
            "overflow": null,
            "_model_module_version": "1.2.0",
            "_view_count": null,
            "flex_flow": null,
            "width": null,
            "min_width": null,
            "border": null,
            "align_items": null,
            "bottom": null,
            "_model_module": "@jupyter-widgets/base",
            "top": null,
            "grid_column": null,
            "overflow_y": null,
            "overflow_x": null,
            "grid_auto_flow": null,
            "grid_area": null,
            "grid_template_columns": null,
            "flex": null,
            "_model_name": "LayoutModel",
            "justify_items": null,
            "grid_row": null,
            "max_height": null,
            "align_content": null,
            "visibility": null,
            "align_self": null,
            "height": null,
            "min_height": null,
            "padding": null,
            "grid_auto_rows": null,
            "grid_gap": null,
            "max_width": null,
            "order": null,
            "_view_module_version": "1.2.0",
            "grid_template_areas": null,
            "object_position": null,
            "object_fit": null,
            "grid_auto_columns": null,
            "margin": null,
            "display": null,
            "left": null
          }
        },
        "6b9548e7725d465f8cada7eb9df23f04": {
          "model_module": "@jupyter-widgets/controls",
          "model_name": "ButtonStyleModel",
          "state": {
            "_view_name": "StyleView",
            "_model_name": "ButtonStyleModel",
            "_view_module": "@jupyter-widgets/base",
            "_model_module_version": "1.5.0",
            "_view_count": null,
            "button_color": null,
            "font_weight": "",
            "_view_module_version": "1.2.0",
            "_model_module": "@jupyter-widgets/controls"
          }
        },
        "a8de89e15c7746c68adff9fa8dfab66a": {
          "model_module": "@jupyter-widgets/base",
          "model_name": "LayoutModel",
          "state": {
            "_view_name": "LayoutView",
            "grid_template_rows": null,
            "right": null,
            "justify_content": null,
            "_view_module": "@jupyter-widgets/base",
            "overflow": null,
            "_model_module_version": "1.2.0",
            "_view_count": null,
            "flex_flow": null,
            "width": null,
            "min_width": null,
            "border": null,
            "align_items": null,
            "bottom": null,
            "_model_module": "@jupyter-widgets/base",
            "top": null,
            "grid_column": null,
            "overflow_y": null,
            "overflow_x": null,
            "grid_auto_flow": null,
            "grid_area": null,
            "grid_template_columns": null,
            "flex": null,
            "_model_name": "LayoutModel",
            "justify_items": null,
            "grid_row": null,
            "max_height": null,
            "align_content": null,
            "visibility": null,
            "align_self": null,
            "height": null,
            "min_height": null,
            "padding": null,
            "grid_auto_rows": null,
            "grid_gap": null,
            "max_width": null,
            "order": null,
            "_view_module_version": "1.2.0",
            "grid_template_areas": null,
            "object_position": null,
            "object_fit": null,
            "grid_auto_columns": null,
            "margin": null,
            "display": null,
            "left": null
          }
        },
        "5e09a5a7afc9485c8f4e2a98c50c8243": {
          "model_module": "@jupyter-widgets/base",
          "model_name": "LayoutModel",
          "state": {
            "_view_name": "LayoutView",
            "grid_template_rows": null,
            "right": null,
            "justify_content": null,
            "_view_module": "@jupyter-widgets/base",
            "overflow": null,
            "_model_module_version": "1.2.0",
            "_view_count": null,
            "flex_flow": null,
            "width": null,
            "min_width": null,
            "border": null,
            "align_items": null,
            "bottom": null,
            "_model_module": "@jupyter-widgets/base",
            "top": null,
            "grid_column": null,
            "overflow_y": null,
            "overflow_x": null,
            "grid_auto_flow": null,
            "grid_area": null,
            "grid_template_columns": null,
            "flex": null,
            "_model_name": "LayoutModel",
            "justify_items": null,
            "grid_row": null,
            "max_height": null,
            "align_content": null,
            "visibility": null,
            "align_self": null,
            "height": null,
            "min_height": null,
            "padding": null,
            "grid_auto_rows": null,
            "grid_gap": null,
            "max_width": null,
            "order": null,
            "_view_module_version": "1.2.0",
            "grid_template_areas": null,
            "object_position": null,
            "object_fit": null,
            "grid_auto_columns": null,
            "margin": null,
            "display": null,
            "left": null
          }
        }
      }
    }
  },
  "cells": [
    {
      "cell_type": "markdown",
      "metadata": {
        "id": "view-in-github",
        "colab_type": "text"
      },
      "source": [
        "<a href=\"https://colab.research.google.com/github/pskaranth/thelearningcurve/blob/master/Classification/generative/Seeds_generative.ipynb\" target=\"_parent\"><img src=\"https://colab.research.google.com/assets/colab-badge.svg\" alt=\"Open In Colab\"/></a>"
      ]
    },
    {
      "cell_type": "markdown",
      "metadata": {
        "id": "y0G7Nhvw5YjD"
      },
      "source": [
        "# Seed Classification using Generative Model\n",
        "Using seeds data set from https://archive.ics.uci.edu/ml/machine-learning-databases/00236/seeds_dataset.txt\n",
        "\n"
      ]
    },
    {
      "cell_type": "code",
      "metadata": {
        "id": "f8euW7KZzAMB",
        "outputId": "766e38f8-a7d8-46e1-bac4-9d18a805bdb1",
        "colab": {
          "base_uri": "https://localhost:8080/",
          "height": 191
        }
      },
      "source": [
        "!git clone -l -s git://github.com/pskaranth/thelearningcurve.git cloned-repo\n",
        "%cd cloned-repo\n",
        "!ls"
      ],
      "execution_count": 11,
      "outputs": [
        {
          "output_type": "stream",
          "text": [
            "Cloning into 'cloned-repo'...\n",
            "warning: --local is ignored\n",
            "remote: Enumerating objects: 153, done.\u001b[K\n",
            "remote: Counting objects: 100% (153/153), done.\u001b[K\n",
            "remote: Compressing objects: 100% (136/136), done.\u001b[K\n",
            "remote: Total 153 (delta 45), reused 0 (delta 0), pack-reused 0\u001b[K\n",
            "Receiving objects: 100% (153/153), 2.06 MiB | 2.52 MiB/s, done.\n",
            "Resolving deltas: 100% (45/45), done.\n",
            "/content/cloned-repo/cloned-repo\n",
            "Classification\tREADME.md\n"
          ],
          "name": "stdout"
        }
      ]
    },
    {
      "cell_type": "code",
      "metadata": {
        "id": "J4BMw5sMz7Rr",
        "outputId": "93a71530-890b-49fe-f483-45651d078981",
        "colab": {
          "base_uri": "https://localhost:8080/",
          "height": 35
        }
      },
      "source": [
        "!ls"
      ],
      "execution_count": 7,
      "outputs": [
        {
          "output_type": "stream",
          "text": [
            "Classification\tREADME.md\n"
          ],
          "name": "stdout"
        }
      ]
    },
    {
      "cell_type": "code",
      "metadata": {
        "id": "b76Rxju3z9ei"
      },
      "source": [
        "import numpy as np\n",
        "from scipy.stats import norm, multivariate_normal\n",
        "import matplotlib.pyplot as plt\n",
        "import ipywidgets as widgets\n",
        "from IPython.display import display\n",
        "from ipywidgets import interact, interactive, fixed, interact_manual, IntSlider"
      ],
      "execution_count": 8,
      "outputs": []
    },
    {
      "cell_type": "code",
      "metadata": {
        "id": "oodrS5A50d4B"
      },
      "source": [
        "data = np.loadtxt('Classification/generative/seeds_dataset.txt')\n",
        "features = ['area','perimeter','compactness','lengthk','widthk','asymmeterycoeff','lengthkg']\n"
      ],
      "execution_count": 12,
      "outputs": []
    },
    {
      "cell_type": "code",
      "metadata": {
        "id": "JSO7yRID8JY_",
        "outputId": "e87c1d7a-864e-48b9-9483-755348a45920",
        "colab": {
          "base_uri": "https://localhost:8080/",
          "height": 52
        }
      },
      "source": [
        "print(\"Dataset dimensions: \", np.shape(data))\n",
        "type(data)"
      ],
      "execution_count": 13,
      "outputs": [
        {
          "output_type": "stream",
          "text": [
            "Dataset dimensions:  (210, 8)\n"
          ],
          "name": "stdout"
        },
        {
          "output_type": "execute_result",
          "data": {
            "text/plain": [
              "numpy.ndarray"
            ]
          },
          "metadata": {
            "tags": []
          },
          "execution_count": 13
        }
      ]
    },
    {
      "cell_type": "code",
      "metadata": {
        "id": "-pBuL4gl8NX2"
      },
      "source": [
        "np.random.seed(0)\n",
        "perm = np.random.permutation(210)\n",
        "train_x = data[perm[0:190],0:7]\n",
        "train_y = data[perm[0:190],7]\n",
        "test_x = data[perm[190:210], 0:7]\n",
        "test_y = data[perm[190:210],7]\n"
      ],
      "execution_count": 14,
      "outputs": []
    },
    {
      "cell_type": "code",
      "metadata": {
        "id": "POgbVN8fAj3_",
        "outputId": "5cc8890a-4fd0-4373-e2cb-5e779a858255",
        "colab": {
          "base_uri": "https://localhost:8080/",
          "height": 87
        }
      },
      "source": [
        "print(\"Training dataset dimensions: \", np.shape(train_x))\n",
        "print(\"Training label dimensions: \", np.shape(train_y))\n",
        "print(train_x[2])\n",
        "print(train_y[2])"
      ],
      "execution_count": 15,
      "outputs": [
        {
          "output_type": "stream",
          "text": [
            "Training dataset dimensions:  (190, 7)\n",
            "Training label dimensions:  (190,)\n",
            "[13.94   14.17    0.8728  5.585   3.15    2.124   5.012 ]\n",
            "1.0\n"
          ],
          "name": "stdout"
        }
      ]
    },
    {
      "cell_type": "code",
      "metadata": {
        "id": "qYYj8qQTetw5"
      },
      "source": [
        "def fit_univariate_model(x,y,feature):\n",
        "    k = 3 # number of classes\n",
        "    mu = np.zeros(4) # list of means\n",
        "    var = np.zeros(4) # list of variances\n",
        "    p = np.zeros(4) # list of class probabilities\n",
        "    \n",
        "    for label in range(1,4):\n",
        "        indices = (y==label)\n",
        "        # print(x[indices,feature])\n",
        "        mu[label] = np.mean(x[indices,feature])\n",
        "        var[label] = np.var(x[indices,feature])      \n",
        "        p[label] = float(sum(indices))/float(len(y))\n",
        "    return mu, var, p"
      ],
      "execution_count": 16,
      "outputs": []
    },
    {
      "cell_type": "code",
      "metadata": {
        "id": "cPkX2IyzCQjq",
        "outputId": "e00fc9e6-a1e4-49e5-9648-2ee9b1204d0b",
        "colab": {
          "base_uri": "https://localhost:8080/",
          "height": 52
        }
      },
      "source": [
        "# consider just one feature - compactness\n",
        "feature = 4\n",
        "mu, var, p = fit_univariate_model(train_x, train_y, feature)\n",
        "print(p[1:])\n",
        "print(mu)"
      ],
      "execution_count": 17,
      "outputs": [
        {
          "output_type": "stream",
          "text": [
            "[0.33157895 0.34210526 0.32631579]\n",
            "[0.         3.23388889 3.67167692 2.84474194]\n"
          ],
          "name": "stdout"
        }
      ]
    },
    {
      "cell_type": "markdown",
      "metadata": {
        "id": "LrJq0ukAjEx4"
      },
      "source": [
        "# Univariate\n",
        "Predicting the output based on just one feature."
      ]
    },
    {
      "cell_type": "code",
      "metadata": {
        "id": "mnmu5cEFgQtu",
        "outputId": "e0d54f4d-3ccd-45b3-9199-6ceb1e0b4fa7",
        "colab": {
          "base_uri": "https://localhost:8080/",
          "height": 347,
          "referenced_widgets": [
            "ae053590b0e24d42a23f0bc51fc5806e",
            "53def2bc80e44bf89f8dcc628e7b0e2a",
            "2b4687ecd2424e14b3c68a30750fff0e",
            "71959ec4a64244659c4f34f6db8a28b9",
            "b32b48a30a354c72b14e389fe1835e30",
            "1670c3095b4a475c9adffea8f0cb50c1",
            "1d1ada9d46344da98e4a513f6b29cdf9",
            "6b9548e7725d465f8cada7eb9df23f04",
            "a8de89e15c7746c68adff9fa8dfab66a",
            "5e09a5a7afc9485c8f4e2a98c50c8243"
          ]
        }
      },
      "source": [
        "@interact_manual( feature=IntSlider(0,0,6) )\n",
        "def show_densities(feature):\n",
        "    mu, var, pi = fit_univariate_model(train_x, train_y, feature)\n",
        "    colors = ['r', 'b', 'g']\n",
        "    for label in range(1,4):\n",
        "        m = mu[label]\n",
        "        s = np.sqrt(var[label])\n",
        "        x_axis = np.linspace(m - 3*s, m+3*s, 1000)\n",
        "        plt.plot(x_axis, norm.pdf(x_axis,m,s), colors[label-1], label=\"class \" + str(label))\n",
        "    plt.xlabel(features[feature], fontsize=14, color='red')\n",
        "    plt.ylabel('Density', fontsize=14, color='red')\n",
        "    plt.legend()\n",
        "    plt.show()"
      ],
      "execution_count": 19,
      "outputs": [
        {
          "output_type": "display_data",
          "data": {
            "application/vnd.jupyter.widget-view+json": {
              "model_id": "ae053590b0e24d42a23f0bc51fc5806e",
              "version_minor": 0,
              "version_major": 2
            },
            "text/plain": [
              "interactive(children=(IntSlider(value=0, description='feature', max=6), Button(description='Run Interact', sty…"
            ]
          },
          "metadata": {
            "tags": []
          }
        }
      ]
    },
    {
      "cell_type": "code",
      "metadata": {
        "id": "aWwzfhWLx0iE"
      },
      "source": [
        "def pred_model(feature):\n",
        "   mu, var, p = fit_univariate_model(train_x, train_y, feature)\n",
        "   n = len(test_y)\n",
        "   print('num of tests : ',n)\n",
        "   score = np.zeros((n,4))\n",
        "   for i in range(n): #run for each entry in test_y, get the score of each labels to find the argmax of the score.\n",
        "      for j in range(1,4):\n",
        "        score[i,j] = np.log(p[j]) + norm.logpdf(test_x[i,feature], mu[j], np.sqrt(var[j])) # taking log for the joint distribution(P(x). distribution of test_x )\n",
        "  #  print(score[1:,1:4])\n",
        "   print(score[:,1:4])\n",
        "   prediction = np.argmax(score[:,1:4], axis=1) + 1\n",
        "   print('prediction : ',prediction)\n",
        "   print('errors : ',np.sum(prediction != test_y))\n"
      ],
      "execution_count": 20,
      "outputs": []
    },
    {
      "cell_type": "code",
      "metadata": {
        "id": "cbtN2YVg3Kk5",
        "outputId": "077b15b1-06d7-4789-be30-7324a6fe41eb",
        "colab": {
          "base_uri": "https://localhost:8080/",
          "height": 416
        }
      },
      "source": [
        "pred_model(6) # feature =2"
      ],
      "execution_count": 21,
      "outputs": [
        {
          "output_type": "stream",
          "text": [
            "num of tests :  20\n",
            "[[ -0.68787935  -7.23295544  -0.22500219]\n",
            " [ -0.78334591  -5.93861696  -0.28670531]\n",
            " [ -1.09678825 -11.56370078  -1.8596426 ]\n",
            " [ -0.71693415  -8.60391833  -0.48870042]\n",
            " [ -0.68724477  -7.26202154  -0.22743169]\n",
            " [ -0.8561807   -5.46769178  -0.40546697]\n",
            " [ -1.46100027  -3.55473297  -1.66887636]\n",
            " [-10.51958294  -1.01920397 -24.21550473]\n",
            " [ -7.83951772  -0.63345286 -17.38724288]\n",
            " [-15.55492207  -2.55159548 -37.15660456]\n",
            " [ -2.21533603  -2.41532447  -3.41758416]\n",
            " [ -0.84953322  -5.50506369  -0.39384954]\n",
            " [ -2.25564697  -2.37011831  -3.51320967]\n",
            " [-10.4857785   -1.01200413 -24.12905396]\n",
            " [ -0.85703419 -10.05165161  -1.043755  ]\n",
            " [ -0.71371242  -6.65112155  -0.20956069]\n",
            " [ -0.71371242  -6.65112155  -0.20956069]\n",
            " [ -9.75680369  -0.86970458 -22.26658747]\n",
            " [ -0.76707966  -6.06963197  -0.26376847]\n",
            " [ -0.71791893  -8.61987498  -0.49340411]]\n",
            "prediction :  [3 3 1 3 3 3 1 2 2 2 1 3 1 2 1 3 3 2 3 3]\n",
            "errors :  8\n"
          ],
          "name": "stdout"
        }
      ]
    },
    {
      "cell_type": "markdown",
      "metadata": {
        "id": "-HOUfva0jSym"
      },
      "source": [
        "# Bivariate\n",
        "Predict the output based on two features. "
      ]
    },
    {
      "cell_type": "code",
      "metadata": {
        "id": "JjHh4pYNsgv4"
      },
      "source": [
        "def fit_bivariate_model(x,y,twofeatures):\n",
        "    k = 3 # number of classes\n",
        "    mu = np.zeros((4,2)) # list of means\n",
        "    var = np.zeros((4,2,2)) # list of variances\n",
        "    p = np.zeros(4) # list of class probabilities\n",
        "    \n",
        "    for label in range(1,4):\n",
        "        indices = (y==label)\n",
        "        # print(x[indices,feature])\n",
        "        # np.mean(x[:,features], axis=0)\n",
        "        # print(x[indices,:][:,twofeatures])\n",
        "        mu[label,:] = np.mean(x[indices,:][:,twofeatures],axis =0)\n",
        "        var[label] = np.cov(x[indices,:][:,twofeatures], rowvar=0, bias=1)      \n",
        "        p[label] = float(sum(indices))/float(len(y))\n",
        "    return mu, var, p"
      ],
      "execution_count": 22,
      "outputs": []
    },
    {
      "cell_type": "code",
      "metadata": {
        "id": "aHvcZMVZ0rYY",
        "outputId": "51c6aaac-443d-47d5-9a01-c5c9e3804584",
        "colab": {
          "base_uri": "https://localhost:8080/",
          "height": 260
        }
      },
      "source": [
        "twofeatures=[4,6]\n",
        "fit_bivariate_model(train_x, train_y, twofeatures)"
      ],
      "execution_count": 23,
      "outputs": [
        {
          "output_type": "execute_result",
          "data": {
            "text/plain": [
              "(array([[0.        , 0.        ],\n",
              "        [3.23388889, 5.06819048],\n",
              "        [3.67167692, 6.00367692],\n",
              "        [2.84474194, 5.12116129]]), array([[[ 0.        ,  0.        ],\n",
              "         [ 0.        ,  0.        ]],\n",
              " \n",
              "        [[ 0.03157819,  0.01909507],\n",
              "         [ 0.01909507,  0.06873711]],\n",
              " \n",
              "        [[ 0.03406428,  0.01860505],\n",
              "         [ 0.01860505,  0.0628689 ]],\n",
              " \n",
              "        [[ 0.0181179 , -0.00183522],\n",
              "         [-0.00183522,  0.02565249]]]), array([0.        , 0.33157895, 0.34210526, 0.32631579]))"
            ]
          },
          "metadata": {
            "tags": []
          },
          "execution_count": 23
        }
      ]
    },
    {
      "cell_type": "code",
      "metadata": {
        "id": "HKPEOUNzvAlO"
      },
      "source": [
        "def pred_model_2(twofeatures):\n",
        "   mu, covar, p = fit_bivariate_model(train_x, train_y, twofeatures)\n",
        "   n = len(test_y)\n",
        "   print('num of tests : ',n)\n",
        "   score = np.zeros((n,4))\n",
        "   for i in range(n): #run for each entry in test_y, get the score of each labels to find the argmax of the score.\n",
        "      for j in range(1,4):\n",
        "        # print(test_x[i,twofeatures] ,'mean mu :', mu[j,:],'  variance : ', var[j,:])        \n",
        "          score[i,j] = np.log(p[j]) + multivariate_normal.logpdf(test_x[i,twofeatures], mu[j,:], covar[j,:]) # taking log for the joint distribution(P(x). distribution of test_x )\n",
        "  #  print(score[1:,1:4])\n",
        "  #  print(score[:,1:4])\n",
        "   prediction = np.argmax(score[:,1:4], axis=1) + 1\n",
        "   print('prediction : ',prediction)\n",
        "   print('errors : ',np.sum(prediction != test_y))"
      ],
      "execution_count": 24,
      "outputs": []
    },
    {
      "cell_type": "code",
      "metadata": {
        "id": "sAbLvITqyZRB",
        "outputId": "3fd46c72-571b-4d0e-c519-8f23f2c7a38c",
        "colab": {
          "base_uri": "https://localhost:8080/",
          "height": 69
        }
      },
      "source": [
        "twofeatures=[4,6]\n",
        "pred_model_2(twofeatures)"
      ],
      "execution_count": 25,
      "outputs": [
        {
          "output_type": "stream",
          "text": [
            "num of tests :  20\n",
            "prediction :  [1 3 1 1 3 1 3 2 2 2 1 1 2 2 1 1 3 2 1 3]\n",
            "errors :  4\n"
          ],
          "name": "stdout"
        }
      ]
    },
    {
      "cell_type": "code",
      "metadata": {
        "id": "Wih8wD82BUZv",
        "outputId": "4094fdbf-341f-4085-8c7b-49b763411971",
        "colab": {
          "base_uri": "https://localhost:8080/",
          "height": 243
        }
      },
      "source": [
        "test = np.array([[2,4,5],[2,6,8],[3,4,5],[2,7,9]])\n",
        "print(type(test) , ': type ::' ,np.shape(test))\n",
        "# print(test[:,0])\n",
        "print(test[:,1]) # second column\n",
        "test_2mn = np.mean(test[:,1],axis =0) # mean across second column\n",
        "print(test_2mn)\n",
        "print('---------------')\n",
        "# to get the mean across those columns which have rows starting with 2\n",
        "mf = [1,2]\n",
        "indices = (test[:,0]==2) # indices true for first column of each row == 2\n",
        "print(indices,'indices')\n",
        "print(test[indices,:])\n",
        "print('---------------')\n",
        "print(test[indices,:][:,mf])\n",
        "mean_mf = np.mean(test[indices,:][:,mf],axis =0)\n",
        "print(mean_mf)"
      ],
      "execution_count": 26,
      "outputs": [
        {
          "output_type": "stream",
          "text": [
            "<class 'numpy.ndarray'> : type :: (4, 3)\n",
            "[4 6 4 7]\n",
            "5.25\n",
            "---------------\n",
            "[ True  True False  True] indices\n",
            "[[2 4 5]\n",
            " [2 6 8]\n",
            " [2 7 9]]\n",
            "---------------\n",
            "[[4 5]\n",
            " [6 8]\n",
            " [7 9]]\n",
            "[5.66666667 7.33333333]\n"
          ],
          "name": "stdout"
        }
      ]
    },
    {
      "cell_type": "markdown",
      "metadata": {
        "id": "wCdYX02CgjOh"
      },
      "source": [
        "# Multivariate\n",
        "Prediction based on more than two features"
      ]
    },
    {
      "cell_type": "code",
      "metadata": {
        "id": "QjI8GduegiGm"
      },
      "source": [
        "def fit_multivariate_model(x,y,multifeatures):\n",
        "    k = 3 # number of classes\n",
        "    mu = np.zeros((4,len(multifeatures))) # list of means\n",
        "    var = np.zeros((4,len(multifeatures),len(multifeatures))) # list of variances\n",
        "    p = np.zeros(4) # list of class probabilities\n",
        "    # print(type(x))\n",
        "    \n",
        "    for label in range(1,4):\n",
        "        indices = (y==label) \n",
        "        # print(indices)       \n",
        "        # print(x[indices,:])        \n",
        "        # print(x[indices,:][:,multifeatures])\n",
        "        mu[label,:] = np.mean(x[indices,:][:,multifeatures],axis =0)\n",
        "        var[label] = np.cov(x[indices,:][:,multifeatures], rowvar=0, bias=1)      \n",
        "        p[label] = float(sum(indices))/float(len(y))\n",
        "    return mu, var, p"
      ],
      "execution_count": 29,
      "outputs": []
    },
    {
      "cell_type": "code",
      "metadata": {
        "id": "faMxmiqpgeAm"
      },
      "source": [
        "multifeatures = range(0,7)\n",
        "fit_multivariate_model(train_x,train_y,multifeatures)"
      ],
      "execution_count": null,
      "outputs": []
    },
    {
      "cell_type": "code",
      "metadata": {
        "id": "z_RMwJiUiVCg"
      },
      "source": [
        "def pred_model_multi(multifeatures):\n",
        "   mu, covar, p = fit_multivariate_model(train_x, train_y, multifeatures)\n",
        "   n = len(test_y)\n",
        "   print('num of tests : ',n)\n",
        "   score = np.zeros((n,4))\n",
        "   for i in range(n): #run for each entry in test_y, get the score of each labels to find the argmax of the score.\n",
        "      for j in range(1,4):\n",
        "        # print(test_x[i,twofeatures] ,'mean mu :', mu[j,:],'  variance : ', var[j,:])        \n",
        "          score[i,j] = np.log(p[j]) + multivariate_normal.logpdf(test_x[i,multifeatures], mu[j,:], covar[j,:]) # taking log for the joint distribution(P(x). distribution of test_x )\n",
        "  #  print(score[1:,1:4])\n",
        "  #  print(score[:,1:4])\n",
        "   prediction = np.argmax(score[:,1:4], axis=1) + 1\n",
        "   print('prediction : ',prediction)\n",
        "   print('errors : ',np.sum(prediction != test_y))"
      ],
      "execution_count": 31,
      "outputs": []
    },
    {
      "cell_type": "code",
      "metadata": {
        "id": "umJiFP26izVS",
        "outputId": "45393490-adc1-4f9b-ca7a-60fdd0db182d",
        "colab": {
          "base_uri": "https://localhost:8080/",
          "height": 69
        }
      },
      "source": [
        "multifeatures = range(0,7)\n",
        "pred_model_multi(multifeatures)"
      ],
      "execution_count": 32,
      "outputs": [
        {
          "output_type": "stream",
          "text": [
            "num of tests :  20\n",
            "prediction :  [1 3 1 1 3 1 3 2 2 2 1 1 1 2 3 1 3 2 1 3]\n",
            "errors :  2\n"
          ],
          "name": "stdout"
        }
      ]
    },
    {
      "cell_type": "markdown",
      "metadata": {
        "id": "3-Ull6n09MZo"
      },
      "source": [
        "Errors decreased as the number of features in the model used was increased."
      ]
    }
  ]
}