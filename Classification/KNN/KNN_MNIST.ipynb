{
  "nbformat": 4,
  "nbformat_minor": 0,
  "metadata": {
    "anaconda-cloud": {},
    "kernelspec": {
      "display_name": "Python 2",
      "language": "python",
      "name": "python2"
    },
    "language_info": {
      "codemirror_mode": {
        "name": "ipython",
        "version": 2
      },
      "file_extension": ".py",
      "mimetype": "text/x-python",
      "name": "python",
      "nbconvert_exporter": "python",
      "pygments_lexer": "ipython2",
      "version": "2.7.13"
    },
    "toc": {
      "colors": {
        "hover_highlight": "#DAA520",
        "navigate_num": "#000000",
        "navigate_text": "#333333",
        "running_highlight": "#FF0000",
        "selected_highlight": "#FFD700",
        "sidebar_border": "#EEEEEE",
        "wrapper_background": "#FFFFFF"
      },
      "moveMenuLeft": true,
      "nav_menu": {
        "height": "153px",
        "width": "252px"
      },
      "navigate_menu": true,
      "number_sections": false,
      "sideBar": true,
      "threshold": 4,
      "toc_cell": false,
      "toc_section_display": "block",
      "toc_window_display": false,
      "widenNotebook": false
    },
    "colab": {
      "name": "KNN_MNIST.ipynb",
      "provenance": [],
      "collapsed_sections": [],
      "toc_visible": true,
      "include_colab_link": true
    }
  },
  "cells": [
    {
      "cell_type": "markdown",
      "metadata": {
        "id": "view-in-github",
        "colab_type": "text"
      },
      "source": [
        "<a href=\"https://colab.research.google.com/github/pskaranth/thelearningcurve/blob/master/Classification/KNN/KNN_MNIST.ipynb\" target=\"_parent\"><img src=\"https://colab.research.google.com/assets/colab-badge.svg\" alt=\"Open In Colab\"/></a>"
      ]
    },
    {
      "cell_type": "markdown",
      "metadata": {
        "id": "xInHhKtFdMdB",
        "colab_type": "text"
      },
      "source": [
        "Susbset of MNIST data set used below was obtained from UCSD micromasters course by edx\n",
        "# Nearest neighbor for handwritten digit recognition\n",
        "\n",
        "In this notebook we will build a classifier that takes an image of a handwritten digit and outputs a label 0-9. We will look at a particularly simple strategy for this problem known as the **nearest neighbor classifier**.\n",
        "\n",
        "To run this notebook you should have the following Python packages installed:\n",
        "* `numpy`\n",
        "* `matplotlib`\n",
        "* `sklearn`"
      ]
    },
    {
      "cell_type": "markdown",
      "metadata": {
        "id": "fqlcFMW2dMdC",
        "colab_type": "text"
      },
      "source": [
        "## 1. The MNIST dataset\n",
        "\n",
        "`MNIST` is a classic dataset in machine learning, consisting of 28x28 gray-scale images handwritten digits. The original training set contains 60,000 examples and the test set contains 10,000 examples. In this notebook we will be working with a subset of this data: a training set of 7,500 examples and a test set of 1,000 examples."
      ]
    },
    {
      "cell_type": "code",
      "metadata": {
        "id": "66xNrQ0i_y_c",
        "colab_type": "code",
        "colab": {
          "base_uri": "https://localhost:8080/",
          "height": 70
        },
        "outputId": "ad5c1a46-aed1-427b-e4a9-c9cb626108ef"
      },
      "source": [
        "# Clone the entire repo.\n",
        "!git clone -l -s git://github.com/pskaranth/thelearningcurve.git cloned-repo\n",
        "%cd cloned-repo\n",
        "!ls"
      ],
      "execution_count": 3,
      "outputs": [
        {
          "output_type": "stream",
          "text": [
            "fatal: destination path 'cloned-repo' already exists and is not an empty directory.\n",
            "/content/cloned-repo\n",
            "Classification\tREADME.md\n"
          ],
          "name": "stdout"
        }
      ]
    },
    {
      "cell_type": "code",
      "metadata": {
        "id": "93pnJEOR6AJZ",
        "colab_type": "code",
        "colab": {
          "base_uri": "https://localhost:8080/",
          "height": 35
        },
        "outputId": "f9be7713-848f-4536-ebcf-0a13ab60a80a"
      },
      "source": [
        "!ls"
      ],
      "execution_count": null,
      "outputs": [
        {
          "output_type": "stream",
          "text": [
            "Classification\tREADME.md\n"
          ],
          "name": "stdout"
        }
      ]
    },
    {
      "cell_type": "code",
      "metadata": {
        "id": "AVOpL7ljdMdC",
        "colab_type": "code",
        "colab": {}
      },
      "source": [
        "%matplotlib inline\n",
        "import numpy as np\n",
        "import pandas as pd\n",
        "import matplotlib.pyplot as plt \n",
        "import matplotlib\n",
        "import time\n",
        "import os\n",
        "\n",
        "name = 'train_data.npy'\n",
        "dirs= 'Classification/KNN/MNIST/'\n",
        "\n",
        "path_to_use = os.path.join(dirs, name)\n",
        "\n",
        "# train_data = np.load('Classification/KNN/MNIST/train_data.npy')\n",
        "## Load the training set\n",
        "train_data = np.load(path_to_use)\n",
        "train_labels = np.load('Classification/KNN/MNIST/train_labels.npy')\n",
        "# ## Load the testing set\n",
        "test_data = np.load('Classification/KNN/MNIST/test_data.npy')\n",
        "test_labels = np.load('Classification/KNN/MNIST/test_labels.npy')"
      ],
      "execution_count": 4,
      "outputs": []
    },
    {
      "cell_type": "code",
      "metadata": {
        "id": "DEYhvhS1dMdG",
        "colab_type": "code",
        "colab": {
          "base_uri": "https://localhost:8080/",
          "height": 88
        },
        "outputId": "c29ddb08-91b6-467f-fe88-ab2393c39452"
      },
      "source": [
        "## Print out their dimensions\n",
        "print(\"Training dataset dimensions: \", np.shape(train_data))\n",
        "print(\"Number of training labels: \", len(train_labels))\n",
        "print(\"Testing dataset dimensions: \", np.shape(test_data))\n",
        "print(\"Number of testing labels: \", len(test_labels))"
      ],
      "execution_count": null,
      "outputs": [
        {
          "output_type": "stream",
          "text": [
            "('Training dataset dimensions: ', (7500, 784))\n",
            "('Number of training labels: ', 7500)\n",
            "('Testing dataset dimensions: ', (1000, 784))\n",
            "('Number of testing labels: ', 1000)\n"
          ],
          "name": "stdout"
        }
      ]
    },
    {
      "cell_type": "markdown",
      "metadata": {
        "id": "XHFWW72FYikw",
        "colab_type": "text"
      },
      "source": [
        "##2. Displaying the image of data point below.\n"
      ]
    },
    {
      "cell_type": "code",
      "metadata": {
        "id": "Pg4xdAPMYJdU",
        "colab_type": "code",
        "colab": {}
      },
      "source": [
        "def disp_image(x):\n",
        "  plt.imshow(x.reshape(28,28))\n",
        "  plt.show()"
      ],
      "execution_count": null,
      "outputs": []
    },
    {
      "cell_type": "code",
      "metadata": {
        "id": "73xLem4X3OAW",
        "colab_type": "code",
        "colab": {
          "base_uri": "https://localhost:8080/",
          "height": 305
        },
        "outputId": "661a3f7d-a89e-4fec-f393-fc977dd6b862"
      },
      "source": [
        "print(train_labels[2,])\n",
        "print(disp_image(train_data[2,]))"
      ],
      "execution_count": null,
      "outputs": [
        {
          "output_type": "stream",
          "text": [
            "8\n"
          ],
          "name": "stdout"
        },
        {
          "output_type": "display_data",
          "data": {
            "image/png": "[encoded data removed]",
            "text/plain": [
              "<Figure size 432x288 with 1 Axes>"
            ]
          },
          "metadata": {
            "tags": [],
            "needs_background": "light"
          }
        },
        {
          "output_type": "stream",
          "text": [
            "None\n"
          ],
          "name": "stdout"
        }
      ]
    },
    {
      "cell_type": "code",
      "metadata": {
        "id": "H2dWFT_2dMdK",
        "colab_type": "code",
        "colab": {
          "base_uri": "https://localhost:8080/",
          "height": 88
        },
        "outputId": "f7d750c5-079e-4d0b-cd7e-9258813c4a40"
      },
      "source": [
        "## Compute the number of examples of each digit\n",
        "train_digits, train_counts = np.unique(train_labels, return_counts=True)\n",
        "print(\"Training set distribution:\")\n",
        "print(dict(zip(train_digits, train_counts)))\n",
        "\n",
        "test_digits, test_counts = np.unique(test_labels, return_counts=True)\n",
        "print(\"Test set distribution:\")\n",
        "print(dict(zip(test_digits, test_counts)))"
      ],
      "execution_count": null,
      "outputs": [
        {
          "output_type": "stream",
          "text": [
            "Training set distribution:\n",
            "{0: 750, 1: 750, 2: 750, 3: 750, 4: 750, 5: 750, 6: 750, 7: 750, 8: 750, 9: 750}\n",
            "Test set distribution:\n",
            "{0: 100, 1: 100, 2: 100, 3: 100, 4: 100, 5: 100, 6: 100, 7: 100, 8: 100, 9: 100}\n"
          ],
          "name": "stdout"
        }
      ]
    },
    {
      "cell_type": "markdown",
      "metadata": {
        "collapsed": true,
        "id": "68_QA0fydMdQ",
        "colab_type": "text"
      },
      "source": [
        "## 3. Squared Euclidean distance\n",
        "\n",
        "To compute nearest neighbors in our data set, we need to first be able to compute distances between data points. A natural distance function is _Euclidean distance_: for two vectors $x, y \\in \\mathbb{R}^d$, their Euclidean distance is defined as \n",
        "$$\\|x - y\\| = \\sqrt{\\sum_{i=1}^d (x_i - y_i)^2}.$$\n",
        "Often we omit the square root, and simply compute _squared Euclidean distance_:\n",
        "$$\\|x - y\\|^2 = \\sum_{i=1}^d (x_i - y_i)^2.$$\n",
        "For the purposes of nearest neighbor computations, the two are equivalent: for three vectors $x, y, z \\in \\mathbb{R}^d$, we have $\\|x - y\\| \\leq \\|x - z\\|$ if and only if $\\|x - y\\|^2 \\leq \\|x - z\\|^2$.\n",
        "\n",
        "Now we just need to be able to compute squared Euclidean distance. The following function does so."
      ]
    },
    {
      "cell_type": "code",
      "metadata": {
        "id": "U59gaEV0bc2x",
        "colab_type": "code",
        "colab": {}
      },
      "source": [
        "def euclid_dist(x,y):\n",
        "  return np.sum(np.square(x-y))"
      ],
      "execution_count": 39,
      "outputs": []
    },
    {
      "cell_type": "markdown",
      "metadata": {
        "id": "31XxhnF6dMdT",
        "colab_type": "text"
      },
      "source": [
        "## 4. Computing nearest neighbors\n",
        "\n",
        "Now that we have a distance function defined, we can now turn to nearest neighbor classification. "
      ]
    },
    {
      "cell_type": "code",
      "metadata": {
        "id": "nMBv7dy5b9Zu",
        "colab_type": "code",
        "colab": {}
      },
      "source": [
        "def NN_class(test_ip):\n",
        "  distances = []\n",
        "  for i in range(len(train_labels)):    \n",
        "    distances.append(euclid_dist(test_ip,train_data[i,]))\n",
        "  min = np.argmin(distances)\n",
        "  # print(min)\n",
        "  # print(\"Image of the predicted label using nearest neighbour\") # comment when you are running for the entire data set.\n",
        "  # disp_image(train_data[min,])\n",
        "  return train_labels[min]"
      ],
      "execution_count": 126,
      "outputs": []
    },
    {
      "cell_type": "code",
      "metadata": {
        "id": "Vc5KhNj1dKc4",
        "colab_type": "code",
        "colab": {
          "base_uri": "https://localhost:8080/",
          "height": 340
        },
        "outputId": "b1cf6445-bf4f-4142-d048-f02447f52c55"
      },
      "source": [
        "pred = NN_class(test_data[3,])\n",
        "print(\"NN class \",pred)\n",
        "print(\"True label: \", test_labels[3])\n",
        "print(\"Image of the true label\")\n",
        "print(disp_image(test_data[3,]))"
      ],
      "execution_count": null,
      "outputs": [
        {
          "output_type": "stream",
          "text": [
            "('NN class ', 5)\n",
            "('True label: ', 5)\n",
            "Image of the true label\n"
          ],
          "name": "stdout"
        },
        {
          "output_type": "display_data",
          "data": {
            "image/png": "[encoded data removed]",
            "text/plain": [
              "<Figure size 432x288 with 1 Axes>"
            ]
          },
          "metadata": {
            "tags": [],
            "needs_background": "light"
          }
        },
        {
          "output_type": "stream",
          "text": [
            "None\n"
          ],
          "name": "stdout"
        }
      ]
    },
    {
      "cell_type": "code",
      "metadata": {
        "id": "l3tJT67OZkB5",
        "colab_type": "code",
        "colab": {
          "base_uri": "https://localhost:8080/",
          "height": 35
        },
        "outputId": "e95af42b-6c8a-4d15-ac9a-1c301cde11f1"
      },
      "source": [
        "print(NN_class(test_data[6,]))"
      ],
      "execution_count": 169,
      "outputs": [
        {
          "output_type": "stream",
          "text": [
            "0\n"
          ],
          "name": "stdout"
        }
      ]
    },
    {
      "cell_type": "markdown",
      "metadata": {
        "id": "q2M7bsDidMde",
        "colab_type": "text"
      },
      "source": [
        "## 6. Processing the full test set\n",
        "\n",
        "Now let's apply our nearest neighbor classifier over the full data set. \n",
        "\n",
        "Note that to classify each test point, our code takes a full pass over each of the 7500 training examples. We also find the error rate in prediction.\n",
        "Error rate = total number of errors / total number of units of test labels"
      ]
    },
    {
      "cell_type": "code",
      "metadata": {
        "id": "VZUez9de52kZ",
        "colab_type": "code",
        "colab": {}
      },
      "source": [
        "pred_full = []\n",
        "for i in range(len(test_labels)):\n",
        "  pred_full.append(NN_class(test_data[i,]))\n",
        "error = np.not_equal(pred_full,test_labels)"
      ],
      "execution_count": null,
      "outputs": []
    },
    {
      "cell_type": "code",
      "metadata": {
        "id": "cwPxz8qG-hBC",
        "colab_type": "code",
        "colab": {
          "base_uri": "https://localhost:8080/",
          "height": 52
        },
        "outputId": "952fcefc-2eaa-4e57-b556-3b143e05699e"
      },
      "source": [
        "print(error[2])\n",
        "error_rate = float(np.sum(error))/len(test_labels)\n",
        "print(error_rate)"
      ],
      "execution_count": null,
      "outputs": [
        {
          "output_type": "stream",
          "text": [
            "False\n",
            "0.046\n"
          ],
          "name": "stdout"
        }
      ]
    },
    {
      "cell_type": "code",
      "metadata": {
        "id": "tysvIh0SKa8a",
        "colab_type": "code",
        "colab": {
          "base_uri": "https://localhost:8080/",
          "height": 212
        },
        "outputId": "8d01258b-c7ea-42a0-fa1c-665163653a09"
      },
      "source": [
        "dist = []\n",
        "dist.append(1)\n",
        "dist.append(5)\n",
        "dist.append(2)\n",
        "dist.append(4)\n",
        "dist.append(10)\n",
        "print(type(dist))\n",
        "dist.sort()\n",
        "print(dist)\n",
        "print(dist[-2:])\n",
        "print(dist[:2])\n",
        "\n",
        "for j in range(len(dist[:2])):\n",
        "  print(dist[j])\n",
        "np.argmin(dist)\n",
        "\n",
        "for i in dist:\n",
        "  print('i in dist', i)"
      ],
      "execution_count": 159,
      "outputs": [
        {
          "output_type": "stream",
          "text": [
            "<type 'list'>\n",
            "[1, 2, 4, 5, 10]\n",
            "[5, 10]\n",
            "[1, 2]\n",
            "1\n",
            "2\n",
            "('i in dist', 1)\n",
            "('i in dist', 2)\n",
            "('i in dist', 4)\n",
            "('i in dist', 5)\n",
            "('i in dist', 10)\n"
          ],
          "name": "stdout"
        }
      ]
    },
    {
      "cell_type": "markdown",
      "metadata": {
        "id": "SPXmZvWJJPQK",
        "colab_type": "text"
      },
      "source": [
        "## Implementation of K Nearest Neighbours"
      ]
    },
    {
      "cell_type": "code",
      "metadata": {
        "id": "RaAliHU2rG8G",
        "colab_type": "code",
        "colab": {
          "base_uri": "https://localhost:8080/",
          "height": 35
        },
        "outputId": "dbd1ea91-b7bf-4c11-91d7-779d126c1acc"
      },
      "source": [
        "# a = [1,2,3,4,3,3,4,2,2,2,2]\n",
        "# freq_count = Counter(a) \n",
        "# freq_count.most_common(1)[0][0]"
      ],
      "execution_count": 177,
      "outputs": [
        {
          "output_type": "execute_result",
          "data": {
            "text/plain": [
              "2"
            ]
          },
          "metadata": {
            "tags": []
          },
          "execution_count": 177
        }
      ]
    },
    {
      "cell_type": "code",
      "metadata": {
        "id": "iwWtV1JQmNnW",
        "colab_type": "code",
        "colab": {}
      },
      "source": [
        "from collections import Counter\n",
        "def most_freq(labels):\n",
        "   ''' This method returns the most frequently occuring label '''\n",
        "  # print(labels)\n",
        "  freq_count = Counter(labels) \n",
        "  return freq_count.most_common(1)[0][0]"
      ],
      "execution_count": 178,
      "outputs": []
    },
    {
      "cell_type": "code",
      "metadata": {
        "id": "_WS7K75XO9aL",
        "colab_type": "code",
        "colab": {}
      },
      "source": [
        "def KNN_predict(test_ip,k):\n",
        " '''This method is used to predict the value from k nearest neighbour '''\n",
        "  distances = []\n",
        "  for i in range(len(test_labels)):    \n",
        "    distances.append(euclid_dist(test_ip,train_data[i,]))\n",
        "  # print(np.argsort(distances))\n",
        "  # print(train_labels[np.argsort(distances),][0])\n",
        "  # print(train_labels[np.argsort(distances),])\n",
        "  \n",
        "  l= []\n",
        "  for j in range(k):   \n",
        "    # print(train_labels[np.argsort(distances),])\n",
        "    l.append(train_labels[np.argsort(distances),][j]) \n",
        "  return most_freq(l)    "
      ],
      "execution_count": 179,
      "outputs": []
    },
    {
      "cell_type": "code",
      "metadata": {
        "id": "I66PkxJePG1c",
        "colab_type": "code",
        "colab": {
          "base_uri": "https://localhost:8080/",
          "height": 35
        },
        "outputId": "8825f0eb-47d5-496e-c953-e986fbbeb4fe"
      },
      "source": [
        "KNN_predict(test_data[6,],3)"
      ],
      "execution_count": 172,
      "outputs": [
        {
          "output_type": "execute_result",
          "data": {
            "text/plain": [
              "0"
            ]
          },
          "metadata": {
            "tags": []
          },
          "execution_count": 172
        }
      ]
    },
    {
      "cell_type": "markdown",
      "metadata": {
        "id": "nCy0HgzJARKA",
        "colab_type": "text"
      },
      "source": [
        "##7. Using the KNN classification from sklearn"
      ]
    },
    {
      "cell_type": "code",
      "metadata": {
        "id": "uvZIyT4wAQF7",
        "colab_type": "code",
        "colab": {
          "base_uri": "https://localhost:8080/",
          "height": 106
        },
        "outputId": "d8a90205-2163-4670-dbc7-093176307c95"
      },
      "source": [
        "from sklearn.neighbors import KNeighborsClassifier\n",
        "\n",
        "for k in range(1,10,2): \n",
        "  model = KNeighborsClassifier(n_neighbors=k) \n",
        "\n",
        " # Train the model using the training sets\n",
        "  model.fit(train_data,train_labels)\n",
        "\n",
        "  #Predict Output\n",
        "  predicted= model.predict(test_data[3,].reshape(1,-1)) \n",
        "  score = model.score(test_data,test_labels)  \n",
        "  print(\"k=%d, error_rate=%.3f, accuracy=%.2f%%\" % (k, 1-score, score * 100))"
      ],
      "execution_count": 8,
      "outputs": [
        {
          "output_type": "stream",
          "text": [
            "k=1 ,error_rate=0.046, accuracy=95.40%\n",
            "k=3 ,error_rate=0.052, accuracy=94.80%\n",
            "k=5 ,error_rate=0.049, accuracy=95.10%\n",
            "k=7 ,error_rate=0.057, accuracy=94.30%\n",
            "k=9 ,error_rate=0.058, accuracy=94.20%\n"
          ],
          "name": "stdout"
        }
      ]
    }
  ]
}