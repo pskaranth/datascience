{
  "nbformat": 4,
  "nbformat_minor": 0,
  "metadata": {
    "anaconda-cloud": {},
    "kernelspec": {
      "display_name": "Python 2",
      "language": "python",
      "name": "python2"
    },
    "language_info": {
      "codemirror_mode": {
        "name": "ipython",
        "version": 2
      },
      "file_extension": ".py",
      "mimetype": "text/x-python",
      "name": "python",
      "nbconvert_exporter": "python",
      "pygments_lexer": "ipython2",
      "version": "2.7.13"
    },
    "toc": {
      "colors": {
        "hover_highlight": "#DAA520",
        "navigate_num": "#000000",
        "navigate_text": "#333333",
        "running_highlight": "#FF0000",
        "selected_highlight": "#FFD700",
        "sidebar_border": "#EEEEEE",
        "wrapper_background": "#FFFFFF"
      },
      "moveMenuLeft": true,
      "nav_menu": {
        "height": "153px",
        "width": "252px"
      },
      "navigate_menu": true,
      "number_sections": false,
      "sideBar": true,
      "threshold": 4,
      "toc_cell": false,
      "toc_section_display": "block",
      "toc_window_display": false,
      "widenNotebook": false
    },
    "colab": {
      "name": "KNN_MNIST.ipynb",
      "provenance": [],
      "collapsed_sections": [],
      "toc_visible": true,
      "include_colab_link": true
    }
  },
  "cells": [
    {
      "cell_type": "markdown",
      "metadata": {
        "id": "view-in-github",
        "colab_type": "text"
      },
      "source": [
        "<a href=\"https://colab.research.google.com/github/pskaranth/thelearningcurve/blob/master/Classification/KNN/KNN_MNIST.ipynb\" target=\"_parent\"><img src=\"https://colab.research.google.com/assets/colab-badge.svg\" alt=\"Open In Colab\"/></a>"
      ]
    },
    {
      "cell_type": "markdown",
      "metadata": {
        "id": "xInHhKtFdMdB",
        "colab_type": "text"
      },
      "source": [
        "# Nearest neighbor for handwritten digit recognition\n",
        "This was part of UCSD Micromasters course on edx\n",
        "\n",
        "In this notebook we will build a classifier that takes an image of a handwritten digit and outputs a label 0-9. We will look at a particularly simple strategy for this problem known as the **nearest neighbor classifier**.\n",
        "\n",
        "To run this notebook you should have the following Python packages installed:\n",
        "* `numpy`\n",
        "* `matplotlib`\n",
        "* `sklearn`"
      ]
    },
    {
      "cell_type": "markdown",
      "metadata": {
        "id": "fqlcFMW2dMdC",
        "colab_type": "text"
      },
      "source": [
        "## 1. The MNIST dataset\n",
        "\n",
        "`MNIST` is a classic dataset in machine learning, consisting of 28x28 gray-scale images handwritten digits. The original training set contains 60,000 examples and the test set contains 10,000 examples. In this notebook we will be working with a subset of this data: a training set of 7,500 examples and a test set of 1,000 examples."
      ]
    },
    {
      "cell_type": "code",
      "metadata": {
        "id": "0elTXjjweWPP",
        "colab_type": "code",
        "colab": {
          "base_uri": "https://localhost:8080/",
          "height": 161
        },
        "outputId": "10d9fef7-c574-4bfc-826a-b8f142bf24c8"
      },
      "source": [
        "from google.colab import drive\n",
        "drive.mount('/content/drive')\n",
        "!ls\n",
        "%cd /content/drive/My Drive/Machine Learning/Micromasters/MLFundamentals/Week 1/"
      ],
      "execution_count": 2,
      "outputs": [
        {
          "output_type": "stream",
          "text": [
            "Go to this URL in a browser: https://accounts.google.com/o/oauth2/auth?client_id=947318989803-6bn6qk8qdgf4n4g3pfee6491hc0brc4i.apps.googleusercontent.com&redirect_uri=urn%3aietf%3awg%3aoauth%3a2.0%3aoob&scope=email%20https%3a%2f%2fwww.googleapis.com%2fauth%2fdocs.test%20https%3a%2f%2fwww.googleapis.com%2fauth%2fdrive%20https%3a%2f%2fwww.googleapis.com%2fauth%2fdrive.photos.readonly%20https%3a%2f%2fwww.googleapis.com%2fauth%2fpeopleapi.readonly&response_type=code\n",
            "\n",
            "Enter your authorization code:\n",
            "4/3wGlSyYf4Rm5vrAKxvJHB2Tzb0MlCvuMKGPT8g2Bc5UBZecCAr-KG4M\n",
            "Mounted at /content/drive\n",
            "drive  sample_data\n",
            "/content/drive/My Drive/Machine Learning/Micromasters/MLFundamentals/Week 1\n"
          ],
          "name": "stdout"
        }
      ]
    },
    {
      "cell_type": "code",
      "metadata": {
        "id": "AVOpL7ljdMdC",
        "colab_type": "code",
        "colab": {}
      },
      "source": [
        "%matplotlib inline\n",
        "import numpy as np\n",
        "import matplotlib.pyplot as plt \n",
        "import matplotlib\n",
        "import time\n",
        "\n",
        "## Load the training set\n",
        "train_data = np.load('MNIST/train_data.npy')\n",
        "train_labels = np.load('MNIST/train_labels.npy')\n",
        "\n",
        "## Load the testing set\n",
        "test_data = np.load('MNIST/test_data.npy')\n",
        "test_labels = np.load('MNIST/test_labels.npy')"
      ],
      "execution_count": 3,
      "outputs": []
    },
    {
      "cell_type": "code",
      "metadata": {
        "id": "AmRzd_mN87uX",
        "colab_type": "code",
        "colab": {
          "base_uri": "https://localhost:8080/",
          "height": 269
        },
        "outputId": "d67a2ff4-8f1d-4e99-9500-e35ea4d1d2fa"
      },
      "source": [
        "img_array = np.load('MNIST/train_data.npy')\n",
        "plt.imshow(img_array, cmap=\"gray\")\n",
        "img_name = \"fl\"+\".png\"\n",
        "matplotlib.image.imsave(img_name, img_array)\n",
        "# print('MNIST/train_data.npy')"
      ],
      "execution_count": 4,
      "outputs": [
        {
          "output_type": "display_data",
          "data": {
            "image/png": "[encoded data removed]",
            "text/plain": [
              "<Figure size 432x288 with 1 Axes>"
            ]
          },
          "metadata": {
            "tags": [],
            "needs_background": "light"
          }
        }
      ]
    },
    {
      "cell_type": "code",
      "metadata": {
        "id": "DEYhvhS1dMdG",
        "colab_type": "code",
        "colab": {
          "base_uri": "https://localhost:8080/",
          "height": 88
        },
        "outputId": "3c0a6dbf-99f1-4b23-e10f-182f61c45f56"
      },
      "source": [
        "## Print out their dimensions\n",
        "print(\"Training dataset dimensions: \", np.shape(train_data))\n",
        "print(\"Number of training labels: \", len(train_labels))\n",
        "print(\"Testing dataset dimensions: \", np.shape(test_data))\n",
        "print(\"Number of testing labels: \", len(test_labels))"
      ],
      "execution_count": 5,
      "outputs": [
        {
          "output_type": "stream",
          "text": [
            "('Training dataset dimensions: ', (7500, 784))\n",
            "('Number of training labels: ', 7500)\n",
            "('Testing dataset dimensions: ', (1000, 784))\n",
            "('Number of testing labels: ', 1000)\n"
          ],
          "name": "stdout"
        }
      ]
    },
    {
      "cell_type": "code",
      "metadata": {
        "id": "H2dWFT_2dMdK",
        "colab_type": "code",
        "colab": {
          "base_uri": "https://localhost:8080/",
          "height": 88
        },
        "outputId": "f77af55f-f065-45a6-b710-43872fa38230"
      },
      "source": [
        "## Compute the number of examples of each digit\n",
        "train_digits, train_counts = np.unique(train_labels, return_counts=True)\n",
        "print(\"Training set distribution:\")\n",
        "print(dict(zip(train_digits, train_counts)))\n",
        "\n",
        "test_digits, test_counts = np.unique(test_labels, return_counts=True)\n",
        "print(\"Test set distribution:\")\n",
        "print(dict(zip(test_digits, test_counts)))"
      ],
      "execution_count": 6,
      "outputs": [
        {
          "output_type": "stream",
          "text": [
            "Training set distribution:\n",
            "{0: 750, 1: 750, 2: 750, 3: 750, 4: 750, 5: 750, 6: 750, 7: 750, 8: 750, 9: 750}\n",
            "Test set distribution:\n",
            "{0: 100, 1: 100, 2: 100, 3: 100, 4: 100, 5: 100, 6: 100, 7: 100, 8: 100, 9: 100}\n"
          ],
          "name": "stdout"
        }
      ]
    },
    {
      "cell_type": "markdown",
      "metadata": {
        "id": "Y7EzklmbdMdN",
        "colab_type": "text"
      },
      "source": [
        "## 2. Visualizing the data\n",
        "Each data point is stored as 784-dimensional vector. To visualize a data point, we first reshape it to a 28x28 image."
      ]
    },
    {
      "cell_type": "code",
      "metadata": {
        "id": "Y50g2J5sdMdN",
        "colab_type": "code",
        "colab": {
          "base_uri": "https://localhost:8080/",
          "height": 556
        },
        "outputId": "b95363ef-d2d3-4994-91df-96b1ed717823"
      },
      "source": [
        "## Define a function that displays a digit given its vector representation\n",
        "def show_digit(x):\n",
        "    plt.axis('off')\n",
        "    plt.imshow(x.reshape((28,28)), cmap=plt.cm.gray)\n",
        "    plt.show()\n",
        "    return\n",
        "\n",
        "## Define a function that takes an index into a particular data set (\"train\" or \"test\") and displays that image.\n",
        "def vis_image(index, dataset=\"train\"):\n",
        "    if(dataset==\"train\"): \n",
        "        show_digit(train_data[index,])\n",
        "        label = train_labels[index]\n",
        "    else:\n",
        "        show_digit(test_data[index,])\n",
        "        label = test_labels[index]\n",
        "    print(\"Label \" + str(label))\n",
        "    return\n",
        "\n",
        "## View the first data point in the training set\n",
        "vis_image(0, \"train\")\n",
        "\n",
        "## Now view the first data point in the test set\n",
        "# vis_image(0, \"test\")\n",
        "vis_image(3, \"test\")"
      ],
      "execution_count": 7,
      "outputs": [
        {
          "output_type": "display_data",
          "data": {
            "image/png": "[encoded data removed]",
            "text/plain": [
              "<Figure size 432x288 with 1 Axes>"
            ]
          },
          "metadata": {
            "tags": [],
            "needs_background": "light"
          }
        },
        {
          "output_type": "stream",
          "text": [
            "Label 9\n"
          ],
          "name": "stdout"
        },
        {
          "output_type": "display_data",
          "data": {
            "image/png": "[encoded data removed]",
            "text/plain": [
              "<Figure size 432x288 with 1 Axes>"
            ]
          },
          "metadata": {
            "tags": [],
            "needs_background": "light"
          }
        },
        {
          "output_type": "stream",
          "text": [
            "Label 5\n"
          ],
          "name": "stdout"
        }
      ]
    },
    {
      "cell_type": "markdown",
      "metadata": {
        "collapsed": true,
        "id": "68_QA0fydMdQ",
        "colab_type": "text"
      },
      "source": [
        "## 3. Squared Euclidean distance\n",
        "\n",
        "To compute nearest neighbors in our data set, we need to first be able to compute distances between data points. A natural distance function is _Euclidean distance_: for two vectors $x, y \\in \\mathbb{R}^d$, their Euclidean distance is defined as \n",
        "$$\\|x - y\\| = \\sqrt{\\sum_{i=1}^d (x_i - y_i)^2}.$$\n",
        "Often we omit the square root, and simply compute _squared Euclidean distance_:\n",
        "$$\\|x - y\\|^2 = \\sum_{i=1}^d (x_i - y_i)^2.$$\n",
        "For the purposes of nearest neighbor computations, the two are equivalent: for three vectors $x, y, z \\in \\mathbb{R}^d$, we have $\\|x - y\\| \\leq \\|x - z\\|$ if and only if $\\|x - y\\|^2 \\leq \\|x - z\\|^2$.\n",
        "\n",
        "Now we just need to be able to compute squared Euclidean distance. The following function does so."
      ]
    },
    {
      "cell_type": "code",
      "metadata": {
        "id": "yCdHyQxldMdQ",
        "colab_type": "code",
        "colab": {
          "base_uri": "https://localhost:8080/",
          "height": 70
        },
        "outputId": "d11aafce-cbce-4b25-b4c0-b8798d3683ce"
      },
      "source": [
        "## Computes squared Euclidean distance between two vectors.\n",
        "def squared_dist(x,y):\n",
        "    # print(x)\n",
        "    return np.sum(np.square(x-y))\n",
        "\n",
        "## Compute distance between a seven and a one in our training set.\n",
        "print(\"Distance from 7 to 1: \", squared_dist(train_data[4,],train_data[5,]))\n",
        "\n",
        "\n",
        "## Compute distance between a seven and a two in our training set.\n",
        "print(\"Distance from 7 to 2: \", squared_dist(train_data[4,],train_data[1,]))\n",
        "\n",
        "## Compute distance between two seven's in our training set.\n",
        "print(\"Distance from 7 to 7: \", squared_dist(train_data[4,],train_data[7,]))"
      ],
      "execution_count": 8,
      "outputs": [
        {
          "output_type": "stream",
          "text": [
            "('Distance from 7 to 1: ', 5357193.0)\n",
            "('Distance from 7 to 2: ', 12451684.0)\n",
            "('Distance from 7 to 7: ', 5223403.0)\n"
          ],
          "name": "stdout"
        }
      ]
    },
    {
      "cell_type": "markdown",
      "metadata": {
        "id": "31XxhnF6dMdT",
        "colab_type": "text"
      },
      "source": [
        "## 4. Computing nearest neighbors\n",
        "\n",
        "Now that we have a distance function defined, we can now turn to nearest neighbor classification. "
      ]
    },
    {
      "cell_type": "code",
      "metadata": {
        "id": "5LXIueLNdMdU",
        "colab_type": "code",
        "colab": {}
      },
      "source": [
        "## Takes a vector x and returns the index of its nearest neighbor in train_data\n",
        "def find_NN(x):\n",
        "    # Compute distances from x to every row in train_data\n",
        "    distances = [squared_dist(x,train_data[i,]) for i in range(len(train_labels))]\n",
        "    # Get the index of the smallest distance\n",
        "    # print(distances)\n",
        "    return np.argmin(distances)\n",
        "\n",
        "## Takes a vector x and returns the class of its nearest neighbor in train_data\n",
        "def NN_classifier(x):\n",
        "    # Get the index of the the nearest neighbor\n",
        "    index = find_NN(x)\n",
        "    #print(index,'index')\n",
        "    # Return its class\n",
        "    return train_labels[index]"
      ],
      "execution_count": 14,
      "outputs": []
    },
    {
      "cell_type": "code",
      "metadata": {
        "id": "WZv2gsc2dMdX",
        "colab_type": "code",
        "colab": {
          "base_uri": "https://localhost:8080/",
          "height": 663
        },
        "outputId": "e6b2e339-c296-4591-ccaa-24f1ad6f7eb3"
      },
      "source": [
        "## A success case:\n",
        "print(\"A success case:\")\n",
        "print(\"NN classification: \", NN_classifier(test_data[3,]))\n",
        "print(\"True label: \", test_labels[3])\n",
        "print(\"The test image:\")\n",
        "vis_image(3, \"test\")\n",
        "print(\"The corresponding nearest neighbor image:\")\n",
        "vis_image(find_NN(test_data[3,]), \"train\")"
      ],
      "execution_count": 10,
      "outputs": [
        {
          "output_type": "stream",
          "text": [
            "A success case:\n",
            "(7495, 'index')\n",
            "('NN classification: ', 5)\n",
            "('True label: ', 5)\n",
            "The test image:\n"
          ],
          "name": "stdout"
        },
        {
          "output_type": "display_data",
          "data": {
            "image/png": "[encoded data removed]",
            "text/plain": [
              "<Figure size 432x288 with 1 Axes>"
            ]
          },
          "metadata": {
            "tags": [],
            "needs_background": "light"
          }
        },
        {
          "output_type": "stream",
          "text": [
            "Label 5\n",
            "The corresponding nearest neighbor image:\n"
          ],
          "name": "stdout"
        },
        {
          "output_type": "display_data",
          "data": {
            "image/png": "[encoded data removed]",
            "text/plain": [
              "<Figure size 432x288 with 1 Axes>"
            ]
          },
          "metadata": {
            "tags": [],
            "needs_background": "light"
          }
        },
        {
          "output_type": "stream",
          "text": [
            "Label 5\n"
          ],
          "name": "stdout"
        }
      ]
    },
    {
      "cell_type": "code",
      "metadata": {
        "id": "5BGO2-2GdMdZ",
        "colab_type": "code",
        "colab": {
          "base_uri": "https://localhost:8080/",
          "height": 663
        },
        "outputId": "16d911bb-e4df-43ec-aa4c-c5726bf26ab1"
      },
      "source": [
        "## A failure case:\n",
        "print(\"A failure case:\")\n",
        "print(\"NN classification: \", NN_classifier(test_data[39,]))\n",
        "print(\"True label: \", test_labels[39])\n",
        "print(\"The test image:\")\n",
        "vis_image(39, \"test\")\n",
        "print(\"The corresponding nearest neighbor image:\")\n",
        "vis_image(find_NN(test_data[39,]), \"train\")"
      ],
      "execution_count": 11,
      "outputs": [
        {
          "output_type": "stream",
          "text": [
            "A failure case:\n",
            "(4455, 'index')\n",
            "('NN classification: ', 2)\n",
            "('True label: ', 3)\n",
            "The test image:\n"
          ],
          "name": "stdout"
        },
        {
          "output_type": "display_data",
          "data": {
            "image/png": "[encoded data removed]",
            "text/plain": [
              "<Figure size 432x288 with 1 Axes>"
            ]
          },
          "metadata": {
            "tags": [],
            "needs_background": "light"
          }
        },
        {
          "output_type": "stream",
          "text": [
            "Label 3\n",
            "The corresponding nearest neighbor image:\n"
          ],
          "name": "stdout"
        },
        {
          "output_type": "display_data",
          "data": {
            "image/png": "[encoded data removed]",
            "text/plain": [
              "<Figure size 432x288 with 1 Axes>"
            ]
          },
          "metadata": {
            "tags": [],
            "needs_background": "light"
          }
        },
        {
          "output_type": "stream",
          "text": [
            "Label 2\n"
          ],
          "name": "stdout"
        }
      ]
    },
    {
      "cell_type": "markdown",
      "metadata": {
        "id": "q2M7bsDidMde",
        "colab_type": "text"
      },
      "source": [
        "## 6. Processing the full test set\n",
        "\n",
        "Now let's apply our nearest neighbor classifier over the full data set. \n",
        "\n",
        "Note that to classify each test point, our code takes a full pass over each of the 7500 training examples. Thus we should not expect testing to be very fast. The following code takes about 100-150 seconds on 2.6 GHz Intel Core i5. "
      ]
    },
    {
      "cell_type": "code",
      "metadata": {
        "id": "c_br6SWTdMdf",
        "colab_type": "code",
        "colab": {
          "base_uri": "https://localhost:8080/",
          "height": 52
        },
        "outputId": "81556c2d-4641-48ff-87bd-985032812677"
      },
      "source": [
        "## Predict on each test data point (and time it!)\n",
        "t_before = time.time()\n",
        "test_predictions = [NN_classifier(test_data[i,]) for i in range(len(test_labels))]\n",
        "t_after = time.time()\n",
        "\n",
        "## Compute the error\n",
        "err_positions = np.not_equal(test_predictions, test_labels)\n",
        "error = float(np.sum(err_positions))/len(test_labels)\n",
        "\n",
        "print(\"Error of nearest neighbor classifier: \", error)\n",
        "print(\"Classification time (seconds): \", t_after - t_before)"
      ],
      "execution_count": 15,
      "outputs": [
        {
          "output_type": "stream",
          "text": [
            "('Error of nearest neighbor classifier: ', 0.046)\n",
            "('Classification time (seconds): ', 45.800344944000244)\n"
          ],
          "name": "stdout"
        }
      ]
    }
  ]
}